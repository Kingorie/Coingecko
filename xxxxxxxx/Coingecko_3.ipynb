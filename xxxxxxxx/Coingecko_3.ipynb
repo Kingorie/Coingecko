{
 "cells": [
  {
   "cell_type": "code",
   "execution_count": 1,
   "id": "3924e289",
   "metadata": {},
   "outputs": [],
   "source": [
    "from selenium import webdriver\n",
    "from selenium.webdriver.chrome.options import Options \n",
    "import pandas as pd\n",
    "import time"
   ]
  },
  {
   "cell_type": "markdown",
   "id": "bb3490c6",
   "metadata": {},
   "source": [
    "# Webdriver to automate browser\n",
    "''' \n",
    "WebDriverManager.chromedriver().setup();\n",
    "WebDriver driver = new ChromeDriver();\n",
    "driver.get(\"http://google.com\");  \n",
    " '''\n",
    "   \n",
    "#driver = webdriver.Chrome('C:\\webdrivers\\chromedriver.exe')\n",
    "driver = webdriver.Chrome('/Users/kingori/Downloads/chromedriver')\n",
    "page = 1\n",
    "url = f\"https://www.coingecko.com/?page={page}\"\n",
    "driver.get(url)\n"
   ]
  },
  {
   "cell_type": "code",
   "execution_count": 2,
   "id": "f5478e71",
   "metadata": {},
   "outputs": [
    {
     "name": "stderr",
     "output_type": "stream",
     "text": [
      "/var/folders/fg/0wr82pbd2fg9b6k58_5b0bth0000gn/T/ipykernel_2001/3189192110.py:64: FutureWarning: The default value of regex will change from True to False in a future version. In addition, single character regular expressions will *not* be treated as literal strings when regex=True.\n",
      "  df[col] = df[col].str.replace('$','')\n",
      "/var/folders/fg/0wr82pbd2fg9b6k58_5b0bth0000gn/T/ipykernel_2001/3189192110.py:69: FutureWarning: The default value of regex will change from True to False in a future version. In addition, single character regular expressions will *not* be treated as literal strings when regex=True.\n",
      "  df[col] = df[col].str.replace('$',\"\")\n",
      "/var/folders/fg/0wr82pbd2fg9b6k58_5b0bth0000gn/T/ipykernel_2001/3189192110.py:64: FutureWarning: The default value of regex will change from True to False in a future version. In addition, single character regular expressions will *not* be treated as literal strings when regex=True.\n",
      "  df[col] = df[col].str.replace('$','')\n",
      "/var/folders/fg/0wr82pbd2fg9b6k58_5b0bth0000gn/T/ipykernel_2001/3189192110.py:69: FutureWarning: The default value of regex will change from True to False in a future version. In addition, single character regular expressions will *not* be treated as literal strings when regex=True.\n",
      "  df[col] = df[col].str.replace('$',\"\")\n",
      "/var/folders/fg/0wr82pbd2fg9b6k58_5b0bth0000gn/T/ipykernel_2001/3189192110.py:64: FutureWarning: The default value of regex will change from True to False in a future version. In addition, single character regular expressions will *not* be treated as literal strings when regex=True.\n",
      "  df[col] = df[col].str.replace('$','')\n",
      "/var/folders/fg/0wr82pbd2fg9b6k58_5b0bth0000gn/T/ipykernel_2001/3189192110.py:69: FutureWarning: The default value of regex will change from True to False in a future version. In addition, single character regular expressions will *not* be treated as literal strings when regex=True.\n",
      "  df[col] = df[col].str.replace('$',\"\")\n"
     ]
    }
   ],
   "source": [
    "page = 1\n",
    "\n",
    "for i in range(1,4):\n",
    "    #driver = webdriver.Chrome('C:\\webdrivers\\chromedriver.exe')\n",
    "    driver = webdriver.Chrome('/Users/kingori/Downloads/chromedriver')\n",
    "    url = f\"https://www.coingecko.com/?page={i}\"\n",
    "    driver.get(url)\n",
    "    \n",
    "    # Click button: Show Fully Diluted Valuation\n",
    "    button = driver.find_element('xpath', '//body/div[4]/div[4]/div[2]/div[2]/div/button')\n",
    "    # clicking on the button\n",
    "    button.click()\n",
    "\n",
    "    # maximize window position\n",
    "    driver.maximize_window\n",
    "    \n",
    "    # Get the following columns from table\n",
    "\n",
    "    # Coin\n",
    "    # Price\n",
    "    # 1h\n",
    "    # 24h\n",
    "    # 7d\n",
    "    # 24h Volume\n",
    "    # Mkt Cap\n",
    "    # FDV\n",
    "\n",
    "\n",
    "    Coin = driver.find_elements('xpath', '//tbody/tr/td[3]/div/div[2]/a[1]/span[1]')\n",
    "    Ticker = driver.find_elements('xpath', '//tbody/tr/td[3]/div/div[2]/a[1]/span[2]')\n",
    "    Price = driver.find_elements('xpath', '//tr/td[4]/div/div[2]')\n",
    "    H1 = driver.find_elements('xpath', \"//tr/td[5]\")\n",
    "    H24 = driver.find_elements('xpath', '//tr/td[6]')\n",
    "    d7 = driver.find_elements('xpath', '//tr/td[7]')\n",
    "    Vol = driver.find_elements('xpath', '//tr/td[8]/span[1]')\n",
    "    Mkt_cap = driver.find_elements('xpath', '//tr/td[9]/span')\n",
    "    FDV = driver.find_elements('xpath', '//tr/td[10]')\n",
    "    \n",
    "    # Loop over all lists and get text elements:\n",
    "\n",
    "    result = []\n",
    "\n",
    "    for i in range(len(Vol)):\n",
    "        data = {\n",
    "            'Coin': Coin[i].text,\n",
    "            'Ticker': Ticker[i].text,\n",
    "            'Price': Price[i].text,\n",
    "            '1h': H1[i].text,\n",
    "            '24h': H24[i].text,\n",
    "            '7d': d7[i].text,\n",
    "            '24h Volume': Vol[i].text,\n",
    "            'Mkt Cap': Mkt_cap[i].text,\n",
    "            'Fully Diluted Valuation': FDV[i].text\n",
    "\n",
    "        }\n",
    "\n",
    "        result.append(data)\n",
    "        \n",
    "        df = pd.DataFrame(result)\n",
    "\n",
    "    #Remove $ from columns\n",
    "    columns = ['Price', '24h Volume', 'Mkt Cap']\n",
    "    for col in columns:\n",
    "        df[col] = df[col].str.replace('$','')\n",
    "        df[col] = df[col].str.replace(',',\"\").astype(float)\n",
    "\n",
    "    columns = ['Fully Diluted Valuation']\n",
    "    for col in columns:\n",
    "        df[col] = df[col].str.replace('$',\"\")\n",
    "        df[col] = df[col].str.replace('-',\"0\")\n",
    "        df[col] = df[col].str.replace(',',\"\").astype(float)\n",
    "        \n",
    "    df\n",
    "    \n",
    "    # Insert date to filename\n",
    "    import datetime\n",
    "    date_string = datetime.datetime.now().strftime(\"%Y%m%d %H-%M-%S\")\n",
    "    #file = ('%s%s.xlsx' % (\"coingecko_\", datestring) )\n",
    "    #file = (\"coingecko_\"f\"{datestring}{_page}.csv\")\n",
    "    file_name = (f\"coingecko_{date_string}_{page}.csv\")\n",
    "\n",
    "    # Save dataframe to CSV file\n",
    "    df.to_csv(file_name, index=0)\n",
    "        \n",
    "    "
   ]
  },
  {
   "cell_type": "code",
   "execution_count": 3,
   "id": "da3393e9",
   "metadata": {},
   "outputs": [],
   "source": [
    "driver.close()"
   ]
  },
  {
   "cell_type": "code",
   "execution_count": 4,
   "id": "93a97292",
   "metadata": {},
   "outputs": [
    {
     "data": {
      "text/plain": [
       "['merged_file_20230130 08-58-57.csv',\n",
       " 'coingecko_20230131 15-29-01_1.csv',\n",
       " 'coingecko_20230130 08-58-57_1.csv',\n",
       " 'report.csv',\n",
       " 'coingecko_20230130 08-58-04_1.csv',\n",
       " 'coingecko_20230130 08-57-31_1.csv',\n",
       " 'coingecko_20230131 15-25-57_1.csv',\n",
       " 'coingecko_20230131 15-29-57_1.csv',\n",
       " 'report2.csv']"
      ]
     },
     "execution_count": 4,
     "metadata": {},
     "output_type": "execute_result"
    }
   ],
   "source": [
    "folder = '/Users/kingori/Library/CloudStorage/GoogleDrive-kingori.ek@gmail.com/My Drive/Documents/Github/Coingecko'\n",
    "\n",
    "csv_files = [file for file in os.listdir(folder) if file.endswith('.csv')]\n",
    "\n",
    "with open(f'merged_file_{date_string}.csv', 'w') as f:\n",
    "    for file in csv_files:\n",
    "        file_path = os.path.join(folder, file)\n",
    "        with open(file_path, 'r') as infile:\n",
    "            f.write(infile.read())\n",
    "            \n",
    "csv_files\n"
   ]
  },
  {
   "cell_type": "code",
   "execution_count": 5,
   "id": "d02eb7a3",
   "metadata": {},
   "outputs": [
    {
     "ename": "SyntaxError",
     "evalue": "invalid syntax (3961994707.py, line 3)",
     "output_type": "error",
     "traceback": [
      "\u001b[0;36m  Cell \u001b[0;32mIn[5], line 3\u001b[0;36m\u001b[0m\n\u001b[0;31m    with open('merged_file_20230130 08-58-57.csv', r)\u001b[0m\n\u001b[0m                                                     ^\u001b[0m\n\u001b[0;31mSyntaxError\u001b[0m\u001b[0;31m:\u001b[0m invalid syntax\n"
     ]
    }
   ],
   "source": [
    "\n",
    "import csv\n",
    "\n",
    "with open('merged_file_20230130 08-58-57.csv', r)"
   ]
  },
  {
   "cell_type": "code",
   "execution_count": null,
   "id": "d64bd29e",
   "metadata": {},
   "outputs": [
    {
     "name": "stdout",
     "output_type": "stream",
     "text": [
      "/Users/kingori/Library/CloudStorage/GoogleDrive-kingori.ek@gmail.com/My Drive/Documents/Github/Coingecko/coingecko_20230130 08-57-31_1.csv\n"
     ]
    }
   ],
   "source": [
    "import os\n",
    "import shutil\n",
    "\n",
    "# Source and destination folder\n",
    "src_folder = '/Users/kingori/Library/CloudStorage/GoogleDrive-kingori.ek@gmail.com/My Drive/Documents/Github/Coingecko/'\n",
    "dest_folder = '/Users/kingori/Library/CloudStorage/GoogleDrive-kingori.ek@gmail.com/My Drive/Documents/Github/Coingecko/Reports/'\n",
    "\n",
    "# Iterate through source folder\n",
    "for file in os.listdir(src_folder):\n",
    "    # check if file is an excel\n",
    "    if file.endswith('.csv'): #or file.endswith('.xls'):\n",
    "        # Build full path of files\n",
    "        src_file = os.path.join(src_folder, file)\n",
    "        dest_file = os.path.join(dest_folder, file)\n",
    "        # move file to dest folder \n",
    "        shutil.move(src_file, dest_folder)\n",
    "    \n",
    "print(src_file)"
   ]
  },
  {
   "cell_type": "code",
   "execution_count": null,
   "id": "2d0c68e2",
   "metadata": {},
   "outputs": [],
   "source": []
  }
 ],
 "metadata": {
  "kernelspec": {
   "display_name": "base",
   "language": "python",
   "name": "python3"
  },
  "language_info": {
   "codemirror_mode": {
    "name": "ipython",
    "version": 3
   },
   "file_extension": ".py",
   "mimetype": "text/x-python",
   "name": "python",
   "nbconvert_exporter": "python",
   "pygments_lexer": "ipython3",
   "version": "3.9.12"
  },
  "vscode": {
   "interpreter": {
    "hash": "395cb13b6efbe03901aa983c70265a6bfbd4a6861adec9dd686d2f988c7b48d2"
   }
  }
 },
 "nbformat": 4,
 "nbformat_minor": 5
}
