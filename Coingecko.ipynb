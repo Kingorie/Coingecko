{
 "cells": [
  {
   "cell_type": "code",
   "execution_count": 1,
   "id": "3924e289",
   "metadata": {},
   "outputs": [],
   "source": [
    "from selenium import webdriver\n",
    "from selenium.webdriver.chrome.options import Options \n",
    "import pandas as pd\n",
    "import time\n",
    "import datetime\n",
    "import os\n",
    "import shutil\n"
   ]
  },
  {
   "cell_type": "code",
   "execution_count": 5,
   "id": "bb3490c6",
   "metadata": {},
   "outputs": [],
   "source": [
    "# Webdriver to automate browser\n",
    "''' \n",
    "WebDriverManager.chromedriver().setup();\n",
    "WebDriver driver = new ChromeDriver();\n",
    "driver.get(\"http://google.com\");  \n",
    " '''\n",
    "\n",
    "#driver = webdriver.Chrome('C:\\webdrivers\\chromedriver.exe')\n",
    "driver = webdriver.Chrome('/Users/kingori/Downloads/chromedriver')\n",
    "driver.get(\"https://coingecko.com\")\n"
   ]
  },
  {
   "cell_type": "code",
   "execution_count": null,
   "id": "ecd8c570",
   "metadata": {},
   "outputs": [],
   "source": [
    "# Click button: Show Fully Diluted Valuation\n",
    "button = driver.find_element('xpath', '//body/div[4]/div[4]/div[2]/div[2]/div/button')\n",
    "# clicking on the button\n",
    "button.click()\n",
    "\n",
    "# maximize window position\n",
    "driver.maximize_window"
   ]
  },
  {
   "cell_type": "code",
   "execution_count": null,
   "id": "589dcef9",
   "metadata": {},
   "outputs": [],
   "source": [
    "# Get the following columns from table\n",
    "\n",
    "# Coin\n",
    "# Price\n",
    "# 1h\n",
    "# 24h\n",
    "# 7d\n",
    "# 24h Volume\n",
    "# Mkt Cap\n",
    "# FDV\n",
    "\n",
    "\n",
    "Coin = driver.find_elements('xpath', '//tbody/tr/td[3]/div/div[2]/a[1]/span[1]')\n",
    "Ticker = driver.find_elements('xpath', '//tbody/tr/td[3]/div/div[2]/a[1]/span[2]')\n",
    "Price = driver.find_elements('xpath', '//tr/td[4]/div/div[2]')\n",
    "H1 = driver.find_elements('xpath', \"//tr/td[5]\")\n",
    "H24 = driver.find_elements('xpath', '//tr/td[6]')\n",
    "d7 = driver.find_elements('xpath', '//tr/td[7]')\n",
    "Vol = driver.find_elements('xpath', '//tr/td[8]/span')\n",
    "Mkt_cap = driver.find_elements('xpath', '//tr/td[9]/span')\n",
    "FDV = driver.find_elements('xpath', '//tr/td[10]')\n",
    "\n"
   ]
  },
  {
   "cell_type": "code",
   "execution_count": null,
   "id": "1c0d9eb5",
   "metadata": {},
   "outputs": [],
   "source": [
    "# Check if code works\n",
    "\n",
    "print(len(FDV))\n",
    "print()\n",
    "\n",
    "for n in Ticker:\n",
    "    print(n.text)"
   ]
  },
  {
   "cell_type": "code",
   "execution_count": null,
   "id": "729439e9",
   "metadata": {},
   "outputs": [],
   "source": [
    "# Loop over all lists and get text elements:\n",
    "\n",
    "result = []\n",
    "\n",
    "for i in range(len(Coin)):\n",
    "    data = {\n",
    "        'Coin': Coin[i].text,\n",
    "        'Ticker': Ticker[i].text,\n",
    "        'Price': Price[i].text,\n",
    "        '1h': H1[i].text,\n",
    "        '24h': H24[i].text,\n",
    "        '7d': d7[i].text,\n",
    "        '24h Volume': Vol[i].text,\n",
    "        'Mkt Cap': Mkt_cap[i].text,\n",
    "        'Fully Diluted Valuation': FDV[i].text\n",
    "\n",
    "\n",
    "    }\n",
    "\n",
    "    result.append(data)"
   ]
  },
  {
   "cell_type": "code",
   "execution_count": null,
   "id": "da3393e9",
   "metadata": {},
   "outputs": [],
   "source": [
    "driver.close()"
   ]
  },
  {
   "cell_type": "code",
   "execution_count": null,
   "id": "e22586e4",
   "metadata": {},
   "outputs": [],
   "source": [
    "df = pd.DataFrame(result)\n",
    "\n",
    "#Remove $ from columns\n",
    "columns = ['Price', '24h Volume', 'Mkt Cap']\n",
    "for col in columns:\n",
    "    df[col] = df[col].str.replace('$','')\n",
    "    df[col] = df[col].str.replace(',',\"\").astype(float)\n",
    "\n",
    "columns = ['Fully Diluted Valuation']\n",
    "for col in columns:\n",
    "    df[col] = df[col].str.replace('$',\"\")\n",
    "    df[col] = df[col].str.replace('-',\"0\")\n",
    "    df[col] = df[col].str.replace(',',\"\").astype(float)\n",
    "     \n",
    "df"
   ]
  },
  {
   "cell_type": "code",
   "execution_count": null,
   "id": "ebc22f34",
   "metadata": {},
   "outputs": [],
   "source": [
    "# use Datetime moduke to insert date to filename\n",
    "\n",
    "e = datetime.datetime.now()\n",
    "datestring = e.strftime(\"%Y%m%d %H-%M-%S\")\n",
    "#file = ('%s%s.xlsx' % (\"coingecko_\", datestring) )\n",
    "file = (\"coingecko_\"f\"{datestring}.csv\")\n",
    "\n",
    "# Save dataframe to CSV file\n",
    "df.to_csv(file, index=0)"
   ]
  },
  {
   "cell_type": "code",
   "execution_count": null,
   "id": "d64bd29e",
   "metadata": {},
   "outputs": [],
   "source": [
    "# Use Shutil and OS modules\n",
    "# Source and destination folder\n",
    "\n",
    "src_folder = '/Users/kingori/Library/CloudStorage/GoogleDrive-kingori.ek@gmail.com/My Drive/Documents/Github/Coingecko/'\n",
    "dest_folder = '/Users/kingori/Library/CloudStorage/GoogleDrive-kingori.ek@gmail.com/My Drive/Documents/Github/Coingecko/Reports/'\n",
    "\n",
    "# Iterate through source folder\n",
    "for file in os.listdir(src_folder):\n",
    "    # check if file is an excel\n",
    "    if file.endswith('.csv'): #or file.endswith('.xls'):\n",
    "        # Build full path of files\n",
    "        src_file = os.path.join(src_folder, file)\n",
    "        dest_file = os.path.join(dest_folder, file)\n",
    "        # move file to dest folder \n",
    "        shutil.move(src_file, dest_folder)\n",
    "    \n",
    "print(src_file)"
   ]
  }
 ],
 "metadata": {
  "kernelspec": {
   "display_name": "base",
   "language": "python",
   "name": "python3"
  },
  "language_info": {
   "codemirror_mode": {
    "name": "ipython",
    "version": 3
   },
   "file_extension": ".py",
   "mimetype": "text/x-python",
   "name": "python",
   "nbconvert_exporter": "python",
   "pygments_lexer": "ipython3",
   "version": "3.10.8"
  },
  "vscode": {
   "interpreter": {
    "hash": "e1f7dcc864217c5101dfb17fbf48ee4261620776baf600ea8ca6ccd057c680c9"
   }
  }
 },
 "nbformat": 4,
 "nbformat_minor": 5
}
