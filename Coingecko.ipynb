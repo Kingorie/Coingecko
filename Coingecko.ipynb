{
 "cells": [
  {
   "cell_type": "code",
   "execution_count": 11,
   "id": "3924e289",
   "metadata": {
    "ExecuteTime": {
     "end_time": "2024-02-02T08:14:05.680539Z",
     "start_time": "2024-02-02T08:14:05.675969Z"
    }
   },
   "outputs": [],
   "source": [
    "from selenium import webdriver\n",
    "from selenium.webdriver.common.desired_capabilities import DesiredCapabilities\n",
    "from selenium.webdriver.support.ui import WebDriverWait\n",
    "from selenium.webdriver.support import expected_conditions as EC\n",
    "from selenium.webdriver.common.by import By\n",
    "import pandas as pd\n",
    "import time\n",
    "import datetime\n",
    "import os\n",
    "import shutil"
   ]
  },
  {
   "cell_type": "code",
   "execution_count": 13,
   "id": "d7657695",
   "metadata": {
    "ExecuteTime": {
     "end_time": "2024-02-02T08:14:33.017791Z",
     "start_time": "2024-02-02T08:14:32.993128Z"
    }
   },
   "outputs": [
    {
     "ename": "TypeError",
     "evalue": "WebDriver.__init__() got an unexpected keyword argument 'desired_capabilities'",
     "output_type": "error",
     "traceback": [
      "\u001b[0;31m---------------------------------------------------------------------------\u001b[0m",
      "\u001b[0;31mTypeError\u001b[0m                                 Traceback (most recent call last)",
      "Cell \u001b[0;32mIn[13], line 6\u001b[0m\n\u001b[1;32m      3\u001b[0m capa[\u001b[38;5;124m\"\u001b[39m\u001b[38;5;124mpageLoadStrategy\u001b[39m\u001b[38;5;124m\"\u001b[39m] \u001b[38;5;241m=\u001b[39m \u001b[38;5;124m\"\u001b[39m\u001b[38;5;124mnone\u001b[39m\u001b[38;5;124m\"\u001b[39m\n\u001b[1;32m      5\u001b[0m \u001b[38;5;66;03m# Initialize Chrome WebDriver with capabilities\u001b[39;00m\n\u001b[0;32m----> 6\u001b[0m driver \u001b[38;5;241m=\u001b[39m webdriver\u001b[38;5;241m.\u001b[39mChrome(desired_capabilities\u001b[38;5;241m=\u001b[39mcapa)\n\u001b[1;32m      7\u001b[0m wait \u001b[38;5;241m=\u001b[39m WebDriverWait(driver, \u001b[38;5;241m20\u001b[39m)\n\u001b[1;32m      9\u001b[0m \u001b[38;5;66;03m# Rest of your code\u001b[39;00m\n",
      "\u001b[0;31mTypeError\u001b[0m: WebDriver.__init__() got an unexpected keyword argument 'desired_capabilities'"
     ]
    }
   ],
   "source": [
    "# Set the pageLoadStrategy capability\n",
    "capa = DesiredCapabilities.CHROME\n",
    "capa[\"pageLoadStrategy\"] = \"none\"\n",
    "\n",
    "# Initialize Chrome WebDriver with capabilities\n",
    "driver = webdriver.Chrome(desired_capabilities=capa)\n",
    "wait = WebDriverWait(driver, 20)\n",
    "\n",
    "# Rest of your code\n",
    "driver.get(\"https://coingecko.com\")\n",
    "\n",
    "# Wait until clickable element loads\n",
    "wait.until(EC.element_to_be_clickable((By.XPATH, '//body/div[4]/div[4]/div[2]/div[2]/div/button')))\n",
    "time.sleep(5)\n",
    "\n",
    "driver.execute_script(\"window.stop();\")"
   ]
  },
  {
   "cell_type": "code",
   "execution_count": null,
   "id": "ecd8c570",
   "metadata": {
    "ExecuteTime": {
     "end_time": "2024-02-02T08:07:01.128218Z",
     "start_time": "2024-02-02T08:07:01.128214Z"
    }
   },
   "outputs": [],
   "source": [
    "# Click button: Show Fully Diluted Valuation\n",
    "button = driver.find_element('xpath', '//body/div[4]/div[4]/div[2]/div[2]/div/button')\n",
    "# clicking on the button\n",
    "button.click()\n",
    "\n",
    "# maximize window position\n",
    "driver.maximize_window"
   ]
  },
  {
   "cell_type": "code",
   "execution_count": null,
   "id": "589dcef9",
   "metadata": {
    "ExecuteTime": {
     "end_time": "2024-02-02T08:07:01.129082Z",
     "start_time": "2024-02-02T08:07:01.129076Z"
    }
   },
   "outputs": [],
   "source": [
    "# Get the following columns from table\n",
    "\n",
    "# Coin\n",
    "# Price\n",
    "# 1h\n",
    "# 24h\n",
    "# 7d\n",
    "# 24h Volume\n",
    "# Mkt Cap\n",
    "# FDV\n",
    "\n",
    "\n",
    "Coin = driver.find_elements('xpath', '//tbody/tr/td[3]/div/div[2]/a[1]/span[1]')\n",
    "Ticker = driver.find_elements('xpath', '//tbody/tr/td[3]/div/div[2]/a[1]/span[2]')\n",
    "Price = driver.find_elements('xpath', '//tr/td[4]/div/div[2]')\n",
    "H1 = driver.find_elements('xpath', \"//tr/td[5]\")\n",
    "H24 = driver.find_elements('xpath', '//tr/td[6]')\n",
    "d7 = driver.find_elements('xpath', '//tr/td[7]')\n",
    "Vol = driver.find_elements('xpath', '//tr/td[8]/span')\n",
    "Mkt_cap = driver.find_elements('xpath', '//tr/td[9]/span')\n",
    "FDV = driver.find_elements('xpath', '//tr/td[10]')\n",
    "\n"
   ]
  },
  {
   "cell_type": "code",
   "execution_count": null,
   "id": "1c0d9eb5",
   "metadata": {
    "ExecuteTime": {
     "end_time": "2024-02-02T08:07:01.129471Z",
     "start_time": "2024-02-02T08:07:01.129466Z"
    }
   },
   "outputs": [],
   "source": [
    "# Check if code works\n",
    "\n",
    "print(len(FDV))\n",
    "print()\n",
    "\n",
    "for n in Ticker:\n",
    "    print(n.text)"
   ]
  },
  {
   "cell_type": "code",
   "execution_count": null,
   "id": "729439e9",
   "metadata": {
    "ExecuteTime": {
     "end_time": "2024-02-02T08:07:01.129852Z",
     "start_time": "2024-02-02T08:07:01.129848Z"
    }
   },
   "outputs": [],
   "source": [
    "# Loop over all lists and get text elements:\n",
    "\n",
    "result = []\n",
    "\n",
    "for i in range(len(d7)):\n",
    "    data = {\n",
    "        'Coin': Coin[i].text,\n",
    "        'Ticker': Ticker[i].text,\n",
    "        'Price': Price[i].text,\n",
    "        '1h': H1[i].text,\n",
    "        '24h': H24[i].text,\n",
    "        '7d': d7[i].text,\n",
    "        '24h Volume': Vol[i].text,\n",
    "        'Mkt Cap': Mkt_cap[i].text,\n",
    "        'Fully Diluted Valuation': FDV[i].text\n",
    "\n",
    "\n",
    "    }\n",
    "\n",
    "    result.append(data)"
   ]
  },
  {
   "cell_type": "code",
   "execution_count": null,
   "id": "da3393e9",
   "metadata": {
    "ExecuteTime": {
     "end_time": "2024-02-02T08:07:01.130315Z",
     "start_time": "2024-02-02T08:07:01.130311Z"
    }
   },
   "outputs": [],
   "source": [
    "driver.close()"
   ]
  },
  {
   "cell_type": "code",
   "execution_count": null,
   "id": "e22586e4",
   "metadata": {
    "ExecuteTime": {
     "end_time": "2024-02-02T08:07:01.130833Z",
     "start_time": "2024-02-02T08:07:01.130828Z"
    }
   },
   "outputs": [],
   "source": [
    "df = pd.DataFrame(result)\n",
    "\n",
    "#Remove $ from columns\n",
    "columns = ['Price', '24h Volume', 'Mkt Cap']\n",
    "for col in columns:\n",
    "    df[col] = df[col].str.replace('$','')\n",
    "    df[col] = df[col].str.replace(',',\"\")\n",
    "\n",
    "columns = ['Fully Diluted Valuation']\n",
    "for col in columns:\n",
    "    df[col] = df[col].str.replace('$',\"\")\n",
    "    df[col] = df[col].str.replace('-',\"0\")\n",
    "    df[col] = df[col].str.replace(',',\"\")\n",
    "     \n",
    "df"
   ]
  },
  {
   "cell_type": "code",
   "execution_count": null,
   "id": "ebc22f34",
   "metadata": {
    "ExecuteTime": {
     "end_time": "2024-02-02T08:07:01.131171Z",
     "start_time": "2024-02-02T08:07:01.131168Z"
    }
   },
   "outputs": [],
   "source": [
    "# use Datetime moduke to insert date to filename\n",
    "\n",
    "e = datetime.datetime.now()\n",
    "datestring = e.strftime(\"%Y%m%d %H-%M-%S\")\n",
    "#file = ('%s%s.xlsx' % (\"coingecko_\", datestring) )\n",
    "file = (\"coingecko_\"f\"{datestring}.csv\")\n",
    "\n",
    "# Save dataframe to CSV file\n",
    "df.to_csv(file, index=0)"
   ]
  },
  {
   "cell_type": "code",
   "execution_count": 6,
   "id": "d64bd29e",
   "metadata": {
    "ExecuteTime": {
     "end_time": "2024-02-02T08:09:56.054979Z",
     "start_time": "2024-02-02T08:09:56.032245Z"
    }
   },
   "outputs": [
    {
     "ename": "NameError",
     "evalue": "name 'src_file' is not defined",
     "output_type": "error",
     "traceback": [
      "\u001b[0;31m---------------------------------------------------------------------------\u001b[0m",
      "\u001b[0;31mNameError\u001b[0m                                 Traceback (most recent call last)",
      "Cell \u001b[0;32mIn[6], line 17\u001b[0m\n\u001b[1;32m     14\u001b[0m         \u001b[38;5;66;03m# move file to dest folder \u001b[39;00m\n\u001b[1;32m     15\u001b[0m         shutil\u001b[38;5;241m.\u001b[39mmove(src_file, dest_folder)\n\u001b[0;32m---> 17\u001b[0m \u001b[38;5;28mprint\u001b[39m(src_file)\n",
      "\u001b[0;31mNameError\u001b[0m: name 'src_file' is not defined"
     ]
    }
   ],
   "source": [
    "# Use Shutil and OS modules\n",
    "# Source and destination folder\n",
    "\n",
    "src_folder = '/Users/kingori/Documents/GitHub/Coingecko/Coingecko'\n",
    "dest_folder = '/Users/kingori/Documents/GitHub/Coingecko/Coingecko/Reports'\n",
    "\n",
    "# Iterate through source folder\n",
    "for file in os.listdir(src_folder):\n",
    "    # check if file is an excel\n",
    "    if file.endswith('.csv'): #or file.endswith('.xls'):\n",
    "        # Build full path of files\n",
    "        src_file = os.path.join(src_folder, file)\n",
    "        dest_file = os.path.join(dest_folder, file)\n",
    "        # move file to dest folder \n",
    "        shutil.move(src_file, dest_folder)\n",
    "    \n",
    "print(src_file)"
   ]
  },
  {
   "cell_type": "code",
   "execution_count": null,
   "id": "1d462f80",
   "metadata": {},
   "outputs": [],
   "source": []
  }
 ],
 "metadata": {
  "kernelspec": {
   "display_name": "Python 3 (ipykernel)",
   "language": "python",
   "name": "python3"
  },
  "language_info": {
   "codemirror_mode": {
    "name": "ipython",
    "version": 3
   },
   "file_extension": ".py",
   "mimetype": "text/x-python",
   "name": "python",
   "nbconvert_exporter": "python",
   "pygments_lexer": "ipython3",
   "version": "3.11.5"
  },
  "vscode": {
   "interpreter": {
    "hash": "e1f7dcc864217c5101dfb17fbf48ee4261620776baf600ea8ca6ccd057c680c9"
   }
  }
 },
 "nbformat": 4,
 "nbformat_minor": 5
}
