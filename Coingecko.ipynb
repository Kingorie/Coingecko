{
 "cells": [
  {
   "cell_type": "code",
   "execution_count": 1,
   "id": "3924e289",
   "metadata": {},
   "outputs": [
    {
     "ename": "ModuleNotFoundError",
     "evalue": "No module named 'selenium'",
     "output_type": "error",
     "traceback": [
      "\u001b[0;31m---------------------------------------------------------------------------\u001b[0m",
      "\u001b[0;31mModuleNotFoundError\u001b[0m                       Traceback (most recent call last)",
      "Cell \u001b[0;32mIn [1], line 1\u001b[0m\n\u001b[0;32m----> 1\u001b[0m \u001b[39mfrom\u001b[39;00m \u001b[39mselenium\u001b[39;00m \u001b[39mimport\u001b[39;00m webdriver\n\u001b[1;32m      2\u001b[0m \u001b[39mfrom\u001b[39;00m \u001b[39mselenium\u001b[39;00m\u001b[39m.\u001b[39;00m\u001b[39mwebdriver\u001b[39;00m\u001b[39m.\u001b[39;00m\u001b[39mchrome\u001b[39;00m\u001b[39m.\u001b[39;00m\u001b[39moptions\u001b[39;00m \u001b[39mimport\u001b[39;00m Options \n\u001b[1;32m      3\u001b[0m \u001b[39mimport\u001b[39;00m \u001b[39mpandas\u001b[39;00m \u001b[39mas\u001b[39;00m \u001b[39mpd\u001b[39;00m\n",
      "\u001b[0;31mModuleNotFoundError\u001b[0m: No module named 'selenium'"
     ]
    }
   ],
   "source": [
    "from selenium import webdriver\n",
    "from selenium.webdriver.chrome.options import Options \n",
    "import pandas as pd\n",
    "import time"
   ]
  },
  {
   "cell_type": "code",
   "execution_count": null,
   "id": "bb3490c6",
   "metadata": {},
   "outputs": [],
   "source": [
    "# Webdriver to automate browser\n",
    "\n",
    "#driver = webdriver.Chrome('C:\\webdrivers\\chromedriver.exe')\n",
    "driver = webdriver.Chrome()\n",
    "driver.get('https://coingecko.com')"
   ]
  },
  {
   "cell_type": "code",
   "execution_count": null,
   "id": "ecd8c570",
   "metadata": {},
   "outputs": [],
   "source": [
    "# Click button: Show Fully Diluted Valuation\n",
    "button = driver.find_element('xpath', '//body/div[4]/div[4]/div[2]/div[2]/div/button')\n",
    "# clicking on the button\n",
    "button.click()\n",
    "\n",
    "# maximize window position\n",
    "driver.maximize_window"
   ]
  },
  {
   "cell_type": "code",
   "execution_count": null,
   "id": "589dcef9",
   "metadata": {},
   "outputs": [],
   "source": [
    "# Get the following columns from table\n",
    "\n",
    "# Coin\n",
    "# Price\n",
    "# 1h\n",
    "# 24h\n",
    "# 7d\n",
    "# 24h Volume\n",
    "# Mkt Cap\n",
    "# FDV\n",
    "\n",
    "\n",
    "Coin = driver.find_elements('xpath', '//tbody/tr/td[3]/div/div[2]/a[1]/span[1]')\n",
    "Ticker = driver.find_elements('xpath', '//tbody/tr/td[3]/div/div[2]/a[1]/span[2]')\n",
    "Price = driver.find_elements('xpath', '//tr/td[4]/div/div[2]')\n",
    "H1 = driver.find_elements('xpath', \"//tr/td[5]\")\n",
    "H24 = driver.find_elements('xpath', '//tr/td[6]')\n",
    "d7 = driver.find_elements('xpath', '//tr/td[7]')\n",
    "Vol = driver.find_elements('xpath', '//tr/td[8]/span')\n",
    "Mkt_cap = driver.find_elements('xpath', '//tr/td[9]/span')\n",
    "FDV = driver.find_elements('xpath', '//tr/td[10]')\n",
    "\n",
    "\n",
    "# Check if code works:"
   ]
  },
  {
   "cell_type": "code",
   "execution_count": null,
   "id": "1c0d9eb5",
   "metadata": {},
   "outputs": [],
   "source": [
    "# Check if code works\n",
    "\n",
    "print(len(FDV))\n",
    "print()\n",
    "\n",
    "for n in Ticker:\n",
    "    print(n.text)"
   ]
  },
  {
   "cell_type": "code",
   "execution_count": null,
   "id": "729439e9",
   "metadata": {},
   "outputs": [],
   "source": [
    "# Loop over all lists and get text elements:\n",
    "\n",
    "result = []\n",
    "\n",
    "for i in range(len(Coin)):\n",
    "    data = {\n",
    "        'Coin': Coin[i].text,\n",
    "        'Ticker': Ticker[i].text,\n",
    "        'Price': Price[i].text,\n",
    "        '1h': H1[i].text,\n",
    "        '24h': H24[i].text,\n",
    "        '7d': d7[i].text,\n",
    "        '24h Volume': Vol[i].text,\n",
    "        'Mkt Cap': Mkt_cap[i].text,\n",
    "        'Fully Diluted Valuation': FDV[i].text\n",
    "\n",
    "\n",
    "    }\n",
    "\n",
    "    result.append(data)"
   ]
  },
  {
   "cell_type": "code",
   "execution_count": null,
   "id": "e22586e4",
   "metadata": {},
   "outputs": [],
   "source": [
    "df = pd.DataFrame(result)\n",
    "df"
   ]
  },
  {
   "cell_type": "code",
   "execution_count": null,
   "id": "cea9930f",
   "metadata": {},
   "outputs": [],
   "source": [
    "df.to_excel('Coingecko.xlsx', index=False)"
   ]
  },
  {
   "cell_type": "code",
   "execution_count": null,
   "id": "ebc22f34",
   "metadata": {},
   "outputs": [],
   "source": [
    "driver.close()\n",
    "\n",
    "\n",
    "filename = \"coingecko_\"\n",
    "e = datetime.datetime.now()\n",
    "df.to_excel(f\"{filename}{e}.xlsx\", index=0)"
   ]
  }
 ],
 "metadata": {
  "kernelspec": {
   "display_name": "Python 3.9.6 64-bit",
   "language": "python",
   "name": "python3"
  },
  "language_info": {
   "codemirror_mode": {
    "name": "ipython",
    "version": 3
   },
   "file_extension": ".py",
   "mimetype": "text/x-python",
   "name": "python",
   "nbconvert_exporter": "python",
   "pygments_lexer": "ipython3",
   "version": "3.9.6"
  },
  "vscode": {
   "interpreter": {
    "hash": "31f2aee4e71d21fbe5cf8b01ff0e069b9275f58929596ceb00d14d90e3e16cd6"
   }
  }
 },
 "nbformat": 4,
 "nbformat_minor": 5
}
