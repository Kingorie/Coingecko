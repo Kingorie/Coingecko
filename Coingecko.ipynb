{
 "cells": [
  {
   "cell_type": "code",
   "execution_count": null,
   "id": "3924e289",
   "metadata": {
    "ExecuteTime": {
     "end_time": "2024-02-02T10:50:37.786953Z",
     "start_time": "2024-02-02T10:50:37.780448Z"
    }
   },
   "outputs": [],
   "source": [
    "from selenium import webdriver\n",
    "from selenium.webdriver.chrome.service import Service as ChromeService\n",
    "from selenium.webdriver.chrome.options import Options\n",
    "from selenium.webdriver.common.by import By\n",
    "from selenium.webdriver.support.ui import WebDriverWait\n",
    "from selenium.webdriver.support import expected_conditions as EC\n",
    "import pandas as pd"
   ]
  },
  {
   "cell_type": "code",
   "execution_count": null,
   "id": "bb3490c6",
   "metadata": {
    "ExecuteTime": {
     "end_time": "2024-02-02T11:53:00.192972Z",
     "start_time": "2024-02-02T11:52:47.291807Z"
    }
   },
   "outputs": [],
   "source": [
    "# Create ChromeOptions instance\n",
    "chrome_options = Options()\n",
    "# Add any desired capabilities to chrome_options here\n",
    "\n",
    "# Provide the correct path to chromedriver\n",
    "chrome_path = '/Users/kingori/Downloads/chromedriver'\n",
    "\n",
    "# Create a ChromeService instance\n",
    "chrome_service = ChromeService(executable_path=chrome_path)\n",
    "\n",
    "# Pass the service instance to the webdriver.Chrome constructor\n",
    "driver = webdriver.Chrome(service=chrome_service, options=chrome_options)\n",
    "\n",
    "# Navigate to the specified URL\n",
    "driver.get(\"https://www.coingecko.com/?page=1\")\n",
    "\n",
    "# Set a maximum wait time of 1 seconds\n",
    "driver.implicitly_wait(0)\n",
    "\n",
    "# Find and print the names of the coins on the page within a maximum of 10 seconds\n",
    "try:\n",
    "    coin_names = WebDriverWait(driver, 1).until(\n",
    "        EC.presence_of_all_elements_located(('xpath', '//tbody/tr/td[3]'))\n",
    "    )\n",
    "\n",
    "    #for coin in coin_names:\n",
    "        #print(coin.text)\n",
    "\n",
    "except Exception as e:\n",
    "    print(f\"An error occurred: {e}\")\n",
    "        "
   ]
  },
  {
   "cell_type": "markdown",
   "id": "6d7a8184",
   "metadata": {
    "ExecuteTime": {
     "end_time": "2024-02-02T09:24:50.587706Z",
     "start_time": "2024-02-02T09:24:45.420123Z"
    }
   },
   "source": [
    "# Click button: Show Fully Diluted Valuation\n",
    "button = driver.find_element('xpath', '//body/div[4]/div[4]/div[2]/div[2]/div/button')\n",
    "# clicking on the button\n",
    "button.click()\n",
    "\n",
    "#Click page 20 of the \n",
    "button2 = driver.find_element('xpath', '//body/div[4]/div[4]/div[6]/div[2]/nav/ul/li[6]/a')\n",
    "button2.click()\n",
    "\n",
    "# maximize window position\n",
    "driver.maximize_window"
   ]
  },
  {
   "cell_type": "code",
   "execution_count": null,
   "id": "589dcef9",
   "metadata": {
    "ExecuteTime": {
     "end_time": "2024-02-02T11:53:04.598833Z",
     "start_time": "2024-02-02T11:53:04.462693Z"
    }
   },
   "outputs": [],
   "source": [
    "# Get the following columns from table\n",
    "\n",
    "# Coin\n",
    "# Price\n",
    "# 1h\n",
    "# 24h\n",
    "# 7d\n",
    "# 24h Volume\n",
    "# Mkt Cap\n",
    "# FDV\n",
    "\n",
    "\n",
    "Coin = driver.find_elements('xpath', '//tbody/tr/td[3]')\n",
    "Ticker = driver.find_elements('xpath', '//tbody/tr/td[3]/a/div/div/div')\n",
    "Price = driver.find_elements('xpath', '//tbody/tr/td[5]')\n",
    "H1 = driver.find_elements('xpath', \"//tbody/tr/td[6]/span\")\n",
    "H24 = driver.find_elements('xpath', '//tbody/tr/td[7]/span')\n",
    "d7 = driver.find_elements('xpath', '//tbody/tr/td[8]')\n",
    "Vol = driver.find_elements('xpath', '//tbody/tr/td[10]/span')\n",
    "Mkt_cap = driver.find_elements('xpath', '//tbody/tr/td[11]/span')\n",
    "FDV = driver.find_elements('xpath', '//tr/td[10]')\n"
   ]
  },
  {
   "cell_type": "code",
   "execution_count": null,
   "id": "1c0d9eb5",
   "metadata": {
    "ExecuteTime": {
     "end_time": "2024-02-02T11:53:46.214061Z",
     "start_time": "2024-02-02T11:53:46.201371Z"
    }
   },
   "outputs": [],
   "source": [
    "# Check if code works\n",
    "\n",
    "\n",
    "\"\"\"print(len(FDV))\n",
    "print()\n",
    "\n",
    "for n in Coin:\n",
    "    print(n.text)\"\"\""
   ]
  },
  {
   "cell_type": "code",
   "execution_count": null,
   "id": "729439e9",
   "metadata": {
    "ExecuteTime": {
     "end_time": "2024-02-02T11:53:55.853311Z",
     "start_time": "2024-02-02T11:53:51.213221Z"
    }
   },
   "outputs": [],
   "source": [
    "# Loop over all lists and get text elements:\n",
    "\n",
    "result = []\n",
    "\n",
    "for i in range(len(Coin)):\n",
    "    data = {\n",
    "        'Coin': Coin[i].text,\n",
    "        'Ticker': Ticker[i].text,\n",
    "        'Price': Price[i].text,\n",
    "        '1h': H1[i].text,\n",
    "        '24h': H24[i].text,\n",
    "        '7d': d7[i].text,\n",
    "        '24h Volume': Vol[i].text,\n",
    "        'Mkt Cap': Mkt_cap[i].text,\n",
    "        'Fully Diluted Valuation': FDV[i].text\n",
    "\n",
    "\n",
    "    }\n",
    "\n",
    "    result.append(data)"
   ]
  },
  {
   "cell_type": "code",
   "execution_count": null,
   "id": "e22586e4",
   "metadata": {
    "ExecuteTime": {
     "end_time": "2024-02-02T11:53:57.995481Z",
     "start_time": "2024-02-02T11:53:57.945526Z"
    }
   },
   "outputs": [],
   "source": [
    "df = pd.DataFrame(result)\n",
    "df"
   ]
  },
  {
   "cell_type": "code",
   "execution_count": null,
   "id": "0e03cb8c",
   "metadata": {
    "ExecuteTime": {
     "end_time": "2024-02-02T11:53:59.464475Z",
     "start_time": "2024-02-02T11:53:59.408460Z"
    }
   },
   "outputs": [],
   "source": [
    "df.to_excel('Coingecko.xlsx', index=False)"
   ]
  },
  {
   "cell_type": "code",
   "execution_count": null,
   "id": "ebc22f34",
   "metadata": {
    "ExecuteTime": {
     "end_time": "2024-02-02T11:54:00.899443Z",
     "start_time": "2024-02-02T11:54:00.743860Z"
    }
   },
   "outputs": [],
   "source": [
    "driver.close()"
   ]
  },
  {
   "cell_type": "markdown",
   "id": "7bef6030",
   "metadata": {},
   "source": [
    "import datetime\n",
    "filename = \"coingecko_\"\n",
    "e = datetime.datetime.now()\n",
    "date_string = e.strftime(\"%Y-%m-%d\")\n",
    "df.to_excel(f\"{filename}{date_string}.xlsx\", index=0)"
   ]
  },
  {
   "cell_type": "code",
   "execution_count": null,
   "id": "f8f17402",
   "metadata": {
    "ExecuteTime": {
     "end_time": "2024-02-02T11:54:03.828698Z",
     "start_time": "2024-02-02T11:54:03.792728Z"
    }
   },
   "outputs": [],
   "source": [
    "import datetime\n",
    "e = datetime.datetime.now()\n",
    "date_string = e.strftime(\"%Y%m%d %H-%M-%S\") # date string with date and time\n",
    "date_string2 = e.strftime(\"%Y-%m-%d\")\n",
    "df.to_excel(\"coingecko_\"f\"{date_string}.xlsx\", sheet_name= date_string2, index=0)\n"
   ]
  }
 ],
 "metadata": {
  "kernelspec": {
   "display_name": "Python 3 (ipykernel)",
   "language": "python",
   "name": "python3"
  },
  "language_info": {
   "codemirror_mode": {
    "name": "ipython",
    "version": 3
   },
   "file_extension": ".py",
   "mimetype": "text/x-python",
   "name": "python",
   "nbconvert_exporter": "python",
   "pygments_lexer": "ipython3",
   "version": "3.11.5"
  },
  "vscode": {
   "interpreter": {
    "hash": "395cb13b6efbe03901aa983c70265a6bfbd4a6861adec9dd686d2f988c7b48d2"
   }
  }
 },
 "nbformat": 4,
 "nbformat_minor": 5
}
