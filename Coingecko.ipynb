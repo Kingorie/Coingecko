{
 "cells": [
  {
   "cell_type": "code",
   "execution_count": 28,
   "id": "3924e289",
   "metadata": {
    "ExecuteTime": {
     "end_time": "2024-02-04T09:41:36.118928Z",
     "start_time": "2024-02-04T09:41:36.114890Z"
    }
   },
   "outputs": [],
   "source": [
    "from selenium import webdriver\n",
    "from selenium.webdriver.chrome.service import Service as ChromeService\n",
    "from selenium.webdriver.chrome.options import Options\n",
    "from selenium.webdriver.common.by import By\n",
    "from selenium.webdriver.support.ui import WebDriverWait\n",
    "from selenium.webdriver.support import expected_conditions as EC\n",
    "import pandas as pd\n",
    "import datetime\n",
    "import os"
   ]
  },
  {
   "cell_type": "code",
   "execution_count": 29,
   "id": "bb3490c6",
   "metadata": {
    "ExecuteTime": {
     "end_time": "2024-02-04T09:41:42.422277Z",
     "start_time": "2024-02-04T09:41:36.122471Z"
    }
   },
   "outputs": [],
   "source": [
    "# Create ChromeOptions instance\n",
    "chrome_options = Options()\n",
    "# Add any desired capabilities to chrome_options here\n",
    "\n",
    "# Provide the correct path to chromedriver\n",
    "chrome_path = '/Users/kingori/Downloads/chromedriver'\n",
    "\n",
    "# Create a ChromeService instance\n",
    "chrome_service = ChromeService(executable_path=chrome_path)\n",
    "\n",
    "# Pass the service instance to the webdriver.Chrome constructor\n",
    "driver = webdriver.Chrome(service=chrome_service, options=chrome_options)\n",
    "\n",
    "# Navigate to the specified URL\n",
    "driver.get(\"https://www.coingecko.com/?page=1\")\n",
    "\n",
    "# Set a maximum wait time of 1 seconds\n",
    "driver.implicitly_wait(0)\n",
    "\n",
    "# Find and print the names of the coins on the page within a maximum of 10 seconds\n",
    "try:\n",
    "    coin_names = WebDriverWait(driver, 1).until(\n",
    "        EC.presence_of_all_elements_located(('xpath', '//tbody/tr/td[3]'))\n",
    "    )\n",
    "\n",
    "    #for coin in coin_names:\n",
    "        #print(coin.text)\n",
    "\n",
    "except Exception as e:\n",
    "    print(f\"An error occurred: {e}\")\n",
    "        "
   ]
  },
  {
   "cell_type": "markdown",
   "id": "6d7a8184",
   "metadata": {
    "ExecuteTime": {
     "end_time": "2024-02-02T09:24:50.587706Z",
     "start_time": "2024-02-02T09:24:45.420123Z"
    }
   },
   "source": [
    "# Click button: Show Fully Diluted Valuation\n",
    "button = driver.find_element('xpath', '//body/div[4]/div[4]/div[2]/div[2]/div/button')\n",
    "# clicking on the button\n",
    "button.click()\n",
    "\n",
    "#Click page 20 of the \n",
    "button2 = driver.find_element('xpath', '//body/div[4]/div[4]/div[6]/div[2]/nav/ul/li[6]/a')\n",
    "button2.click()\n",
    "\n",
    "# maximize window position\n",
    "driver.maximize_window"
   ]
  },
  {
   "cell_type": "code",
   "execution_count": 30,
   "id": "589dcef9",
   "metadata": {
    "ExecuteTime": {
     "end_time": "2024-02-04T09:41:42.542733Z",
     "start_time": "2024-02-04T09:41:42.424482Z"
    }
   },
   "outputs": [],
   "source": [
    "# Get the following columns from table\n",
    "\n",
    "# Coin\n",
    "# Price\n",
    "# 1h\n",
    "# 24h\n",
    "# 7d\n",
    "# 24h Volume\n",
    "# Mkt Cap\n",
    "# FDV\n",
    "\n",
    "\n",
    "Coin = driver.find_elements('xpath', '//tbody/tr/td[3]')\n",
    "Ticker = driver.find_elements('xpath', '//tbody/tr/td[3]/a/div/div/div')\n",
    "Price = driver.find_elements('xpath', '//tbody/tr/td[5]')\n",
    "H1 = driver.find_elements('xpath', \"//tbody/tr/td[6]/span\")\n",
    "H24 = driver.find_elements('xpath', '//tbody/tr/td[7]/span')\n",
    "d7 = driver.find_elements('xpath', '//tbody/tr/td[8]')\n",
    "Vol = driver.find_elements('xpath', '//tbody/tr/td[10]/span')\n",
    "Mkt_cap = driver.find_elements('xpath', '//tbody/tr/td[11]/span')\n",
    "FDV = driver.find_elements('xpath', '//tr/td[10]')\n"
   ]
  },
  {
   "cell_type": "code",
   "execution_count": 31,
   "id": "1c0d9eb5",
   "metadata": {
    "ExecuteTime": {
     "end_time": "2024-02-04T09:41:42.547394Z",
     "start_time": "2024-02-04T09:41:42.544664Z"
    }
   },
   "outputs": [
    {
     "data": {
      "text/plain": [
       "'print(len(FDV))\\nprint()\\n\\nfor n in Coin:\\n    print(n.text)'"
      ]
     },
     "execution_count": 31,
     "metadata": {},
     "output_type": "execute_result"
    }
   ],
   "source": [
    "# Check if code works\n",
    "\n",
    "\n",
    "\"\"\"print(len(FDV))\n",
    "print()\n",
    "\n",
    "for n in Coin:\n",
    "    print(n.text)\"\"\""
   ]
  },
  {
   "cell_type": "code",
   "execution_count": 32,
   "id": "729439e9",
   "metadata": {
    "ExecuteTime": {
     "end_time": "2024-02-04T09:41:47.129109Z",
     "start_time": "2024-02-04T09:41:42.548406Z"
    }
   },
   "outputs": [],
   "source": [
    "# Loop over all lists and get text elements:\n",
    "\n",
    "result = []\n",
    "\n",
    "for i in range(len(Coin)):\n",
    "    data = {\n",
    "        'Coin': Coin[i].text,\n",
    "        'Ticker': Ticker[i].text,\n",
    "        'Price': Price[i].text,\n",
    "        '1h': H1[i].text,\n",
    "        '24h': H24[i].text,\n",
    "        '7d': d7[i].text,\n",
    "        '24h Volume': Vol[i].text,\n",
    "        'Mkt Cap': Mkt_cap[i].text,\n",
    "        'Fully Diluted Valuation': FDV[i].text\n",
    "\n",
    "\n",
    "    }\n",
    "\n",
    "    result.append(data)"
   ]
  },
  {
   "cell_type": "code",
   "execution_count": 33,
   "id": "e22586e4",
   "metadata": {
    "ExecuteTime": {
     "end_time": "2024-02-04T09:41:47.143474Z",
     "start_time": "2024-02-04T09:41:47.130114Z"
    }
   },
   "outputs": [],
   "source": [
    "df = pd.DataFrame(result)\n",
    "#df"
   ]
  },
  {
   "cell_type": "code",
   "execution_count": 77,
   "id": "2adef5b6",
   "metadata": {
    "ExecuteTime": {
     "end_time": "2024-02-04T13:00:09.823113Z",
     "start_time": "2024-02-04T13:00:09.799516Z"
    }
   },
   "outputs": [
    {
     "name": "stderr",
     "output_type": "stream",
     "text": [
      "mkdir: reports: File exists\n"
     ]
    }
   ],
   "source": [
    "# create directory\n",
    "\n",
    "directory = 'reports'\n",
    "\n",
    "try:\n",
    "    os.system('mkdir %s' % directory)\n",
    "except:\n",
    "    print('Folder exists')"
   ]
  },
  {
   "cell_type": "code",
   "execution_count": 35,
   "id": "ebc22f34",
   "metadata": {
    "ExecuteTime": {
     "end_time": "2024-02-04T09:41:47.295013Z",
     "start_time": "2024-02-04T09:41:47.162771Z"
    }
   },
   "outputs": [],
   "source": [
    "driver.close()"
   ]
  },
  {
   "cell_type": "markdown",
   "id": "7bef6030",
   "metadata": {},
   "source": [
    "import datetime\n",
    "filename = \"coingecko_\"\n",
    "e = datetime.datetime.now()\n",
    "date_string = e.strftime(\"%Y-%m-%d\")\n",
    "df.to_excel(f\"{filename}{date_string}.xlsx\", index=0)"
   ]
  },
  {
   "cell_type": "code",
   "execution_count": 72,
   "id": "f8f17402",
   "metadata": {
    "ExecuteTime": {
     "end_time": "2024-02-04T12:57:32.355558Z",
     "start_time": "2024-02-04T12:57:32.286939Z"
    }
   },
   "outputs": [],
   "source": [
    "# Save the DataFrame (df) to an Excel file with a filename containing the date and time\n",
    "# The sheet name is set to the formatted date\n",
    "\n",
    "e = datetime.datetime.now() # get the current date and time\n",
    "date_string = e.strftime(\"%Y%m%d %H-%M-%S\") # date string with date and time\n",
    "date_string2 = e.strftime(\"%Y-%m-%d\") # create a formatted date string in the format 'YYYY-MM-DD'\n",
    "df.to_excel(\"coingecko_\"f\"{date_string}.xlsx\", sheet_name= date_string2, index=0)"
   ]
  },
  {
   "cell_type": "code",
   "execution_count": 84,
   "id": "de485258",
   "metadata": {
    "ExecuteTime": {
     "end_time": "2024-02-04T13:03:06.920938Z",
     "start_time": "2024-02-04T13:03:06.916628Z"
    }
   },
   "outputs": [],
   "source": [
    "xlsx_files = []\n",
    "\n",
    "for file in os.listdir():\n",
    "    if file.endswith('.xlsx'):\n",
    "        xlsx_files.append(file)\n",
    "#csv_files"
   ]
  },
  {
   "cell_type": "code",
   "execution_count": 85,
   "id": "8b052cac",
   "metadata": {
    "ExecuteTime": {
     "end_time": "2024-02-04T13:03:07.466087Z",
     "start_time": "2024-02-04T13:03:07.449843Z"
    }
   },
   "outputs": [],
   "source": [
    "# mv files directory\n",
    "\n",
    "folder = os.getcwd() + '/' + directory\n",
    "\n",
    "for file in xlsx_files:\n",
    "    mv = \"mv '%s' %s\" % (file, folder)\n",
    "    os.system(mv)"
   ]
  }
 ],
 "metadata": {
  "kernelspec": {
   "display_name": "Python 3 (ipykernel)",
   "language": "python",
   "name": "python3"
  },
  "language_info": {
   "codemirror_mode": {
    "name": "ipython",
    "version": 3
   },
   "file_extension": ".py",
   "mimetype": "text/x-python",
   "name": "python",
   "nbconvert_exporter": "python",
   "pygments_lexer": "ipython3",
   "version": "3.11.5"
  },
  "vscode": {
   "interpreter": {
    "hash": "395cb13b6efbe03901aa983c70265a6bfbd4a6861adec9dd686d2f988c7b48d2"
   }
  }
 },
 "nbformat": 4,
 "nbformat_minor": 5
}
