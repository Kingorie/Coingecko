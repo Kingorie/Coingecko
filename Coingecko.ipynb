{
 "cells": [
  {
   "cell_type": "code",
<<<<<<< HEAD
   "execution_count": null,
=======
   "execution_count": 1,
>>>>>>> 6ecac89b6d603a7f87103ae8a36a88cf71f19fa3
   "id": "3924e289",
   "metadata": {},
   "outputs": [],
   "source": [
    "from selenium import webdriver\n",
    "from selenium.webdriver.chrome.options import Options \n",
    "import pandas as pd\n",
    "import time"
   ]
  },
  {
   "cell_type": "code",
<<<<<<< HEAD
   "execution_count": null,
=======
   "execution_count": 2,
>>>>>>> 6ecac89b6d603a7f87103ae8a36a88cf71f19fa3
   "id": "bb3490c6",
   "metadata": {},
   "outputs": [],
   "source": [
    "# Webdriver to automate browser\n",
    "\n",
    "#driver = webdriver.Chrome('C:\\webdrivers\\chromedriver.exe')\n",
    "driver = webdriver.Chrome()\n",
    "driver.get('https://coingecko.com')\n",
    "\n"
   ]
  },
  {
   "cell_type": "code",
<<<<<<< HEAD
   "execution_count": null,
   "id": "d71ee119",
   "metadata": {},
   "outputs": [],
=======
   "execution_count": 3,
   "id": "d71ee119",
   "metadata": {},
   "outputs": [
    {
     "data": {
      "text/plain": [
       "<bound method WebDriver.maximize_window of <selenium.webdriver.chrome.webdriver.WebDriver (session=\"9f194ecea71cdd5fb86641a26c10ef1b\")>>"
      ]
     },
     "execution_count": 3,
     "metadata": {},
     "output_type": "execute_result"
    }
   ],
>>>>>>> 6ecac89b6d603a7f87103ae8a36a88cf71f19fa3
   "source": [
    "# Click button: Show Fully Diluted Valuation\n",
    "button = driver.find_element('xpath', '//body/div[4]/div[4]/div[2]/div[2]/div/button')\n",
    "# clicking on the button\n",
    "button.click()\n",
    "\n",
    "# maximize window position\n",
    "driver.maximize_window"
   ]
  },
  {
   "cell_type": "code",
<<<<<<< HEAD
   "execution_count": null,
=======
   "execution_count": 4,
>>>>>>> 6ecac89b6d603a7f87103ae8a36a88cf71f19fa3
   "id": "589dcef9",
   "metadata": {},
   "outputs": [],
   "source": [
    "# Get the following columns from table\n",
    "\n",
    "# Coin\n",
    "# Price\n",
    "# 1h\n",
    "# 24h\n",
    "# 7d\n",
    "# 24h Volume\n",
    "# Mkt Cap\n",
    "# FDV\n",
    "\n",
    "\n",
    "Coin = driver.find_elements('xpath', '//tbody/tr/td[3]/div/div[2]/a[1]/span[1]')\n",
    "Ticker = driver.find_elements('xpath', '//tbody/tr/td[3]/div/div[2]/a/span[2]')\n",
    "Price = driver.find_elements('xpath', '//tr/td[4]/div/div[2]')\n",
    "H1 = driver.find_elements('xpath', \"//tr/td[5]\")\n",
    "H24 = driver.find_elements('xpath', '//tr/td[6]')\n",
    "d7 = driver.find_elements('xpath', '//tr/td[7]')\n",
    "Vol = driver.find_elements('xpath', '//tr/td[8]/span')\n",
    "Mkt_cap = driver.find_elements('xpath', '//tr/td[9]/span')\n",
    "FDV = driver.find_elements('xpath', '//tr/td[10]')\n",
    "\n",
    "\n",
    "# Check if code works:"
   ]
  },
  {
<<<<<<< HEAD
   "cell_type": "code",
   "execution_count": null,
   "id": "b0ad146a",
   "metadata": {},
   "outputs": [],
=======
   "cell_type": "markdown",
   "id": "8b9c63dd",
   "metadata": {},
>>>>>>> 6ecac89b6d603a7f87103ae8a36a88cf71f19fa3
   "source": [
    "# Check if code works\n",
    "\n",
    "print(len(FDV))\n",
    "print()\n",
    "\n",
    "for n in Coin:\n",
    "    print(n.text)"
   ]
  },
  {
   "cell_type": "code",
<<<<<<< HEAD
   "execution_count": null,
=======
   "execution_count": 6,
>>>>>>> 6ecac89b6d603a7f87103ae8a36a88cf71f19fa3
   "id": "729439e9",
   "metadata": {},
   "outputs": [],
   "source": [
    "# Loop over all lists and get text elements:\n",
    "\n",
    "result = []\n",
    "\n",
    "for i in range(len(Coin)):\n",
    "    data = {\n",
    "        'Coin': Coin[i].text,\n",
    "        'Ticker': Ticker[i].text,\n",
    "        'Price': Price[i].text,\n",
    "        '1h': H1[i].text,\n",
    "        '24h': H24[i].text,\n",
    "        '7d': d7[i].text,\n",
    "        '24h Volume': Vol[i].text,\n",
    "        'Mkt Cap': Mkt_cap[i].text,\n",
    "        'Fully Diluted Valuation': FDV[i].text\n",
    "\n",
    "\n",
    "    }\n",
    "\n",
    "    result.append(data)"
   ]
  },
  {
   "cell_type": "code",
<<<<<<< HEAD
   "execution_count": null,
   "id": "e22586e4",
   "metadata": {},
   "outputs": [],
=======
   "execution_count": 7,
   "id": "e22586e4",
   "metadata": {},
   "outputs": [
    {
     "data": {
      "text/html": [
       "<div>\n",
       "<style scoped>\n",
       "    .dataframe tbody tr th:only-of-type {\n",
       "        vertical-align: middle;\n",
       "    }\n",
       "\n",
       "    .dataframe tbody tr th {\n",
       "        vertical-align: top;\n",
       "    }\n",
       "\n",
       "    .dataframe thead th {\n",
       "        text-align: right;\n",
       "    }\n",
       "</style>\n",
       "<table border=\"1\" class=\"dataframe\">\n",
       "  <thead>\n",
       "    <tr style=\"text-align: right;\">\n",
       "      <th></th>\n",
       "      <th>Coin</th>\n",
       "      <th>Price</th>\n",
       "      <th>1h</th>\n",
       "      <th>24h</th>\n",
       "      <th>7d</th>\n",
       "      <th>24h Volume</th>\n",
       "      <th>Mkt Cap</th>\n",
       "      <th>Fully Diluted Valuation</th>\n",
       "    </tr>\n",
       "  </thead>\n",
       "  <tbody>\n",
       "    <tr>\n",
       "      <th>0</th>\n",
       "      <td>Bitcoin</td>\n",
       "      <td>$16,850.86</td>\n",
       "      <td>-0.1%</td>\n",
       "      <td>-1.0%</td>\n",
       "      <td>-9.2%</td>\n",
       "      <td>$27,679,049,823</td>\n",
       "      <td>$323,683,516,545</td>\n",
       "      <td>$353,868,039,000</td>\n",
       "    </tr>\n",
       "    <tr>\n",
       "      <th>1</th>\n",
       "      <td>Ethereum</td>\n",
       "      <td>$1,247.84</td>\n",
       "      <td>-0.1%</td>\n",
       "      <td>-2.7%</td>\n",
       "      <td>-6.5%</td>\n",
       "      <td>$8,460,526,518</td>\n",
       "      <td>$150,365,953,125</td>\n",
       "      <td>$150,365,953,125</td>\n",
       "    </tr>\n",
       "    <tr>\n",
       "      <th>2</th>\n",
       "      <td>Tether</td>\n",
       "      <td>$1.00</td>\n",
       "      <td>0.1%</td>\n",
       "      <td>-0.6%</td>\n",
       "      <td>0.2%</td>\n",
       "      <td>$37,827,003,224</td>\n",
       "      <td>$66,190,295,514</td>\n",
       "      <td>$66,190,295,514</td>\n",
       "    </tr>\n",
       "    <tr>\n",
       "      <th>3</th>\n",
       "      <td>BNB</td>\n",
       "      <td>$276.45</td>\n",
       "      <td>-0.8%</td>\n",
       "      <td>-1.8%</td>\n",
       "      <td>-16.4%</td>\n",
       "      <td>$967,110,734</td>\n",
       "      <td>$45,130,598,648</td>\n",
       "      <td>$55,281,032,430</td>\n",
       "    </tr>\n",
       "    <tr>\n",
       "      <th>4</th>\n",
       "      <td>USD Coin</td>\n",
       "      <td>$1.00</td>\n",
       "      <td>0.1%</td>\n",
       "      <td>-0.4%</td>\n",
       "      <td>0.4%</td>\n",
       "      <td>$2,903,522,271</td>\n",
       "      <td>$44,521,393,880</td>\n",
       "      <td>$44,519,333,472</td>\n",
       "    </tr>\n",
       "    <tr>\n",
       "      <th>...</th>\n",
       "      <td>...</td>\n",
       "      <td>...</td>\n",
       "      <td>...</td>\n",
       "      <td>...</td>\n",
       "      <td>...</td>\n",
       "      <td>...</td>\n",
       "      <td>...</td>\n",
       "      <td>...</td>\n",
       "    </tr>\n",
       "    <tr>\n",
       "      <th>95</th>\n",
       "      <td>Stacks</td>\n",
       "      <td>$0.252194</td>\n",
       "      <td>0.0%</td>\n",
       "      <td>10.3%</td>\n",
       "      <td>-9.5%</td>\n",
       "      <td>$98,576,578</td>\n",
       "      <td>$339,030,871</td>\n",
       "      <td>$458,592,988</td>\n",
       "    </tr>\n",
       "    <tr>\n",
       "      <th>96</th>\n",
       "      <td>BitDAO</td>\n",
       "      <td>$0.310093</td>\n",
       "      <td>-0.2%</td>\n",
       "      <td>-0.6%</td>\n",
       "      <td>-9.7%</td>\n",
       "      <td>$13,723,651</td>\n",
       "      <td>$333,872,869</td>\n",
       "      <td>$3,104,619,345</td>\n",
       "    </tr>\n",
       "    <tr>\n",
       "      <th>97</th>\n",
       "      <td>1inch</td>\n",
       "      <td>$0.536426</td>\n",
       "      <td>-0.1%</td>\n",
       "      <td>1.8%</td>\n",
       "      <td>-3.9%</td>\n",
       "      <td>$26,848,188</td>\n",
       "      <td>$332,280,649</td>\n",
       "      <td>$801,638,227</td>\n",
       "    </tr>\n",
       "    <tr>\n",
       "      <th>98</th>\n",
       "      <td>Zilliqa</td>\n",
       "      <td>$0.02200969</td>\n",
       "      <td>-1.1%</td>\n",
       "      <td>1.2%</td>\n",
       "      <td>-17.7%</td>\n",
       "      <td>$34,293,374</td>\n",
       "      <td>$332,031,022</td>\n",
       "      <td>$462,404,713</td>\n",
       "    </tr>\n",
       "    <tr>\n",
       "      <th>99</th>\n",
       "      <td>Enjin Coin</td>\n",
       "      <td>$0.326607</td>\n",
       "      <td>-0.5%</td>\n",
       "      <td>1.4%</td>\n",
       "      <td>-19.6%</td>\n",
       "      <td>$23,892,995</td>\n",
       "      <td>$326,422,527</td>\n",
       "      <td>$326,422,527</td>\n",
       "    </tr>\n",
       "  </tbody>\n",
       "</table>\n",
       "<p>100 rows × 8 columns</p>\n",
       "</div>"
      ],
      "text/plain": [
       "          Coin        Price     1h    24h      7d       24h Volume  \\\n",
       "0      Bitcoin   $16,850.86  -0.1%  -1.0%   -9.2%  $27,679,049,823   \n",
       "1     Ethereum    $1,247.84  -0.1%  -2.7%   -6.5%   $8,460,526,518   \n",
       "2       Tether        $1.00   0.1%  -0.6%    0.2%  $37,827,003,224   \n",
       "3          BNB      $276.45  -0.8%  -1.8%  -16.4%     $967,110,734   \n",
       "4     USD Coin        $1.00   0.1%  -0.4%    0.4%   $2,903,522,271   \n",
       "..         ...          ...    ...    ...     ...              ...   \n",
       "95      Stacks    $0.252194   0.0%  10.3%   -9.5%      $98,576,578   \n",
       "96      BitDAO    $0.310093  -0.2%  -0.6%   -9.7%      $13,723,651   \n",
       "97       1inch    $0.536426  -0.1%   1.8%   -3.9%      $26,848,188   \n",
       "98     Zilliqa  $0.02200969  -1.1%   1.2%  -17.7%      $34,293,374   \n",
       "99  Enjin Coin    $0.326607  -0.5%   1.4%  -19.6%      $23,892,995   \n",
       "\n",
       "             Mkt Cap Fully Diluted Valuation  \n",
       "0   $323,683,516,545        $353,868,039,000  \n",
       "1   $150,365,953,125        $150,365,953,125  \n",
       "2    $66,190,295,514         $66,190,295,514  \n",
       "3    $45,130,598,648         $55,281,032,430  \n",
       "4    $44,521,393,880         $44,519,333,472  \n",
       "..               ...                     ...  \n",
       "95      $339,030,871            $458,592,988  \n",
       "96      $333,872,869          $3,104,619,345  \n",
       "97      $332,280,649            $801,638,227  \n",
       "98      $332,031,022            $462,404,713  \n",
       "99      $326,422,527            $326,422,527  \n",
       "\n",
       "[100 rows x 8 columns]"
      ]
     },
     "execution_count": 7,
     "metadata": {},
     "output_type": "execute_result"
    }
   ],
>>>>>>> 6ecac89b6d603a7f87103ae8a36a88cf71f19fa3
   "source": [
    "df = pd.DataFrame(result)\n",
    "df"
   ]
  },
  {
   "cell_type": "code",
   "execution_count": 8,
   "id": "cea9930f",
   "metadata": {},
   "outputs": [],
   "source": [
    "df.to_excel('Coingecko.xlsx', index=False)"
   ]
  },
  {
   "cell_type": "code",
   "execution_count": 9,
   "id": "ebc22f34",
   "metadata": {},
   "outputs": [],
   "source": [
    "driver.close()"
   ]
  }
 ],
 "metadata": {
  "kernelspec": {
   "display_name": "Python 3.9.12 ('base')",
   "language": "python",
   "name": "python3"
  },
  "language_info": {
   "codemirror_mode": {
    "name": "ipython",
    "version": 3
   },
   "file_extension": ".py",
   "mimetype": "text/x-python",
   "name": "python",
   "nbconvert_exporter": "python",
   "pygments_lexer": "ipython3",
   "version": "3.9.12"
  },
  "vscode": {
   "interpreter": {
    "hash": "ad2bdc8ecc057115af97d19610ffacc2b4e99fae6737bb82f5d7fb13d2f2c186"
   }
  }
 },
 "nbformat": 4,
 "nbformat_minor": 5
}
