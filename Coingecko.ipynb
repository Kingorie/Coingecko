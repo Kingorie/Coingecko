{
 "cells": [
  {
   "cell_type": "code",
   "execution_count": 4,
   "id": "3924e289",
   "metadata": {
    "ExecuteTime": {
     "end_time": "2024-02-04T09:29:50.375404Z",
     "start_time": "2024-02-04T09:29:49.716665Z"
    }
   },
   "outputs": [],
   "source": [
    "from selenium import webdriver\n",
    "from selenium.webdriver.chrome.service import Service as ChromeService\n",
    "from selenium.webdriver.chrome.options import Options\n",
    "from selenium.webdriver.common.by import By\n",
    "from selenium.webdriver.support.ui import WebDriverWait\n",
    "from selenium.webdriver.support import expected_conditions as EC\n",
    "import pandas as pd\n",
    "import datetime\n",
    "import os"
   ]
  },
  {
   "cell_type": "code",
   "execution_count": 5,
   "id": "bb3490c6",
   "metadata": {
    "ExecuteTime": {
     "end_time": "2024-02-04T09:29:53.218791Z",
     "start_time": "2024-02-04T09:29:50.376820Z"
    }
   },
   "outputs": [],
   "source": [
    "# Create ChromeOptions instance\n",
    "chrome_options = Options()\n",
    "# Add any desired capabilities to chrome_options here\n",
    "\n",
    "# Provide the correct path to chromedriver\n",
    "chrome_path = '/Users/kingori/Downloads/chromedriver'\n",
    "\n",
    "# Create a ChromeService instance\n",
    "chrome_service = ChromeService(executable_path=chrome_path)\n",
    "\n",
    "# Pass the service instance to the webdriver.Chrome constructor\n",
    "driver = webdriver.Chrome(service=chrome_service, options=chrome_options)\n",
    "\n",
    "# Navigate to the specified URL\n",
    "driver.get(\"https://www.coingecko.com/?page=1\")\n",
    "\n",
    "# Set a maximum wait time of 1 seconds\n",
    "driver.implicitly_wait(0)\n",
    "\n",
    "# Find and print the names of the coins on the page within a maximum of 10 seconds\n",
    "try:\n",
    "    coin_names = WebDriverWait(driver, 1).until(\n",
    "        EC.presence_of_all_elements_located(('xpath', '//tbody/tr/td[3]'))\n",
    "    )\n",
    "\n",
    "    #for coin in coin_names:\n",
    "        #print(coin.text)\n",
    "\n",
    "except Exception as e:\n",
    "    print(f\"An error occurred: {e}\")\n",
    "        "
   ]
  },
  {
   "cell_type": "markdown",
   "id": "6d7a8184",
   "metadata": {
    "ExecuteTime": {
     "end_time": "2024-02-02T09:24:50.587706Z",
     "start_time": "2024-02-02T09:24:45.420123Z"
    }
   },
   "source": [
    "# Click button: Show Fully Diluted Valuation\n",
    "button = driver.find_element('xpath', '//body/div[4]/div[4]/div[2]/div[2]/div/button')\n",
    "# clicking on the button\n",
    "button.click()\n",
    "\n",
    "#Click page 20 of the \n",
    "button2 = driver.find_element('xpath', '//body/div[4]/div[4]/div[6]/div[2]/nav/ul/li[6]/a')\n",
    "button2.click()\n",
    "\n",
    "# maximize window position\n",
    "driver.maximize_window"
   ]
  },
  {
   "cell_type": "code",
   "execution_count": 6,
   "id": "589dcef9",
   "metadata": {
    "ExecuteTime": {
     "end_time": "2024-02-04T09:29:53.477660Z",
     "start_time": "2024-02-04T09:29:53.220400Z"
    }
   },
   "outputs": [],
   "source": [
    "# Get the following columns from table\n",
    "\n",
    "# Coin\n",
    "# Price\n",
    "# 1h\n",
    "# 24h\n",
    "# 7d\n",
    "# 24h Volume\n",
    "# Mkt Cap\n",
    "# FDV\n",
    "\n",
    "\n",
    "Coin = driver.find_elements('xpath', '//tbody/tr/td[3]')\n",
    "Ticker = driver.find_elements('xpath', '//tbody/tr/td[3]/a/div/div/div')\n",
    "Price = driver.find_elements('xpath', '//tbody/tr/td[5]')\n",
    "H1 = driver.find_elements('xpath', \"//tbody/tr/td[6]/span\")\n",
    "H24 = driver.find_elements('xpath', '//tbody/tr/td[7]/span')\n",
    "d7 = driver.find_elements('xpath', '//tbody/tr/td[8]')\n",
    "Vol = driver.find_elements('xpath', '//tbody/tr/td[10]/span')\n",
    "Mkt_cap = driver.find_elements('xpath', '//tbody/tr/td[11]/span')\n",
    "FDV = driver.find_elements('xpath', '//tr/td[10]')\n"
   ]
  },
  {
   "cell_type": "code",
   "execution_count": 7,
   "id": "1c0d9eb5",
   "metadata": {
    "ExecuteTime": {
     "end_time": "2024-02-04T09:29:53.484841Z",
     "start_time": "2024-02-04T09:29:53.480973Z"
    }
   },
   "outputs": [
    {
     "data": {
      "text/plain": [
       "'print(len(FDV))\\nprint()\\n\\nfor n in Coin:\\n    print(n.text)'"
      ]
     },
     "execution_count": 7,
     "metadata": {},
     "output_type": "execute_result"
    }
   ],
   "source": [
    "# Check if code works\n",
    "\n",
    "\n",
    "\"\"\"print(len(FDV))\n",
    "print()\n",
    "\n",
    "for n in Coin:\n",
    "    print(n.text)\"\"\""
   ]
  },
  {
   "cell_type": "code",
   "execution_count": 8,
   "id": "729439e9",
   "metadata": {
    "ExecuteTime": {
     "end_time": "2024-02-04T09:29:58.426327Z",
     "start_time": "2024-02-04T09:29:53.486443Z"
    }
   },
   "outputs": [],
   "source": [
    "# Loop over all lists and get text elements:\n",
    "\n",
    "result = []\n",
    "\n",
    "for i in range(len(Coin)):\n",
    "    data = {\n",
    "        'Coin': Coin[i].text,\n",
    "        'Ticker': Ticker[i].text,\n",
    "        'Price': Price[i].text,\n",
    "        '1h': H1[i].text,\n",
    "        '24h': H24[i].text,\n",
    "        '7d': d7[i].text,\n",
    "        '24h Volume': Vol[i].text,\n",
    "        'Mkt Cap': Mkt_cap[i].text,\n",
    "        'Fully Diluted Valuation': FDV[i].text\n",
    "\n",
    "\n",
    "    }\n",
    "\n",
    "    result.append(data)"
   ]
  },
  {
   "cell_type": "code",
   "execution_count": 9,
   "id": "e22586e4",
   "metadata": {
    "ExecuteTime": {
     "end_time": "2024-02-04T09:29:58.446538Z",
     "start_time": "2024-02-04T09:29:58.427333Z"
    }
   },
   "outputs": [
    {
     "data": {
      "text/html": [
       "<div>\n",
       "<style scoped>\n",
       "    .dataframe tbody tr th:only-of-type {\n",
       "        vertical-align: middle;\n",
       "    }\n",
       "\n",
       "    .dataframe tbody tr th {\n",
       "        vertical-align: top;\n",
       "    }\n",
       "\n",
       "    .dataframe thead th {\n",
       "        text-align: right;\n",
       "    }\n",
       "</style>\n",
       "<table border=\"1\" class=\"dataframe\">\n",
       "  <thead>\n",
       "    <tr style=\"text-align: right;\">\n",
       "      <th></th>\n",
       "      <th>Coin</th>\n",
       "      <th>Ticker</th>\n",
       "      <th>Price</th>\n",
       "      <th>1h</th>\n",
       "      <th>24h</th>\n",
       "      <th>7d</th>\n",
       "      <th>24h Volume</th>\n",
       "      <th>Mkt Cap</th>\n",
       "      <th>Fully Diluted Valuation</th>\n",
       "    </tr>\n",
       "  </thead>\n",
       "  <tbody>\n",
       "    <tr>\n",
       "      <th>0</th>\n",
       "      <td>Bitcoin BTC</td>\n",
       "      <td>BTC</td>\n",
       "      <td>$42,872.46</td>\n",
       "      <td>0.2%</td>\n",
       "      <td>0.4%</td>\n",
       "      <td>0.9%</td>\n",
       "      <td>$8,532,951,671</td>\n",
       "      <td>$841,067,870,651</td>\n",
       "      <td>$8,532,951,671</td>\n",
       "    </tr>\n",
       "    <tr>\n",
       "      <th>1</th>\n",
       "      <td>Ethereum ETH</td>\n",
       "      <td>ETH</td>\n",
       "      <td>$2,296.36</td>\n",
       "      <td>0.3%</td>\n",
       "      <td>0.7%</td>\n",
       "      <td>0.5%</td>\n",
       "      <td>$4,492,403,988</td>\n",
       "      <td>$275,774,517,874</td>\n",
       "      <td>$4,492,403,988</td>\n",
       "    </tr>\n",
       "    <tr>\n",
       "      <th>2</th>\n",
       "      <td>Tether USDT</td>\n",
       "      <td>USDT</td>\n",
       "      <td>$1.00</td>\n",
       "      <td>0.1%</td>\n",
       "      <td>0.1%</td>\n",
       "      <td>0.1%</td>\n",
       "      <td>$10,798,068,855</td>\n",
       "      <td>$96,481,988,733</td>\n",
       "      <td>$10,798,068,855</td>\n",
       "    </tr>\n",
       "    <tr>\n",
       "      <th>3</th>\n",
       "      <td>BNB BNB</td>\n",
       "      <td>BNB</td>\n",
       "      <td>$300.41</td>\n",
       "      <td>0.3%</td>\n",
       "      <td>0.5%</td>\n",
       "      <td>2.0%</td>\n",
       "      <td>$333,863,685</td>\n",
       "      <td>$46,238,419,294</td>\n",
       "      <td>$333,863,685</td>\n",
       "    </tr>\n",
       "    <tr>\n",
       "      <th>4</th>\n",
       "      <td>Solana SOL</td>\n",
       "      <td>SOL</td>\n",
       "      <td>$96.59</td>\n",
       "      <td>0.0%</td>\n",
       "      <td>2.5%</td>\n",
       "      <td>0.0%</td>\n",
       "      <td>$1,388,745,160</td>\n",
       "      <td>$42,035,441,078</td>\n",
       "      <td>$1,388,745,160</td>\n",
       "    </tr>\n",
       "    <tr>\n",
       "      <th>...</th>\n",
       "      <td>...</td>\n",
       "      <td>...</td>\n",
       "      <td>...</td>\n",
       "      <td>...</td>\n",
       "      <td>...</td>\n",
       "      <td>...</td>\n",
       "      <td>...</td>\n",
       "      <td>...</td>\n",
       "      <td>...</td>\n",
       "    </tr>\n",
       "    <tr>\n",
       "      <th>95</th>\n",
       "      <td>Pyth Network PYTH</td>\n",
       "      <td>PYTH</td>\n",
       "      <td>$0.4936</td>\n",
       "      <td>0.6%</td>\n",
       "      <td>2.8%</td>\n",
       "      <td>17.3%</td>\n",
       "      <td>$159,507,478</td>\n",
       "      <td>$740,693,342</td>\n",
       "      <td>$159,507,478</td>\n",
       "    </tr>\n",
       "    <tr>\n",
       "      <th>96</th>\n",
       "      <td>Jupiter JUP</td>\n",
       "      <td>JUP</td>\n",
       "      <td>$0.5414</td>\n",
       "      <td>0.6%</td>\n",
       "      <td>6.8%</td>\n",
       "      <td>-</td>\n",
       "      <td>$228,052,553</td>\n",
       "      <td>$728,251,560</td>\n",
       "      <td>$228,052,553</td>\n",
       "    </tr>\n",
       "    <tr>\n",
       "      <th>97</th>\n",
       "      <td>Blur BLUR</td>\n",
       "      <td>BLUR</td>\n",
       "      <td>$0.5682</td>\n",
       "      <td>0.7%</td>\n",
       "      <td>2.5%</td>\n",
       "      <td>11.5%</td>\n",
       "      <td>$55,396,542</td>\n",
       "      <td>$727,450,842</td>\n",
       "      <td>$55,396,542</td>\n",
       "    </tr>\n",
       "    <tr>\n",
       "      <th>98</th>\n",
       "      <td>USDD USDD</td>\n",
       "      <td>USDD</td>\n",
       "      <td>$0.9946</td>\n",
       "      <td>0.1%</td>\n",
       "      <td>0.1%</td>\n",
       "      <td>0.1%</td>\n",
       "      <td>$9,810,708</td>\n",
       "      <td>$722,284,889</td>\n",
       "      <td>$9,810,708</td>\n",
       "    </tr>\n",
       "    <tr>\n",
       "      <th>99</th>\n",
       "      <td>Frax Ether FRXETH</td>\n",
       "      <td>FRXETH</td>\n",
       "      <td>$2,290.59</td>\n",
       "      <td>0.2%</td>\n",
       "      <td>0.9%</td>\n",
       "      <td>0.2%</td>\n",
       "      <td>$6,619,533</td>\n",
       "      <td>$710,072,785</td>\n",
       "      <td>$6,619,533</td>\n",
       "    </tr>\n",
       "  </tbody>\n",
       "</table>\n",
       "<p>100 rows × 9 columns</p>\n",
       "</div>"
      ],
      "text/plain": [
       "                 Coin  Ticker       Price    1h   24h     7d       24h Volume  \\\n",
       "0         Bitcoin BTC     BTC  $42,872.46  0.2%  0.4%   0.9%   $8,532,951,671   \n",
       "1        Ethereum ETH     ETH   $2,296.36  0.3%  0.7%   0.5%   $4,492,403,988   \n",
       "2         Tether USDT    USDT       $1.00  0.1%  0.1%   0.1%  $10,798,068,855   \n",
       "3             BNB BNB     BNB     $300.41  0.3%  0.5%   2.0%     $333,863,685   \n",
       "4          Solana SOL     SOL      $96.59  0.0%  2.5%   0.0%   $1,388,745,160   \n",
       "..                ...     ...         ...   ...   ...    ...              ...   \n",
       "95  Pyth Network PYTH    PYTH     $0.4936  0.6%  2.8%  17.3%     $159,507,478   \n",
       "96        Jupiter JUP     JUP     $0.5414  0.6%  6.8%      -     $228,052,553   \n",
       "97          Blur BLUR    BLUR     $0.5682  0.7%  2.5%  11.5%      $55,396,542   \n",
       "98          USDD USDD    USDD     $0.9946  0.1%  0.1%   0.1%       $9,810,708   \n",
       "99  Frax Ether FRXETH  FRXETH   $2,290.59  0.2%  0.9%   0.2%       $6,619,533   \n",
       "\n",
       "             Mkt Cap Fully Diluted Valuation  \n",
       "0   $841,067,870,651          $8,532,951,671  \n",
       "1   $275,774,517,874          $4,492,403,988  \n",
       "2    $96,481,988,733         $10,798,068,855  \n",
       "3    $46,238,419,294            $333,863,685  \n",
       "4    $42,035,441,078          $1,388,745,160  \n",
       "..               ...                     ...  \n",
       "95      $740,693,342            $159,507,478  \n",
       "96      $728,251,560            $228,052,553  \n",
       "97      $727,450,842             $55,396,542  \n",
       "98      $722,284,889              $9,810,708  \n",
       "99      $710,072,785              $6,619,533  \n",
       "\n",
       "[100 rows x 9 columns]"
      ]
     },
     "execution_count": 9,
     "metadata": {},
     "output_type": "execute_result"
    }
   ],
   "source": [
    "df = pd.DataFrame(result)\n",
    "df"
   ]
  },
  {
   "cell_type": "code",
   "execution_count": 10,
   "id": "2adef5b6",
   "metadata": {
    "ExecuteTime": {
     "end_time": "2024-02-04T09:29:58.465000Z",
     "start_time": "2024-02-04T09:29:58.447653Z"
    }
   },
   "outputs": [
    {
     "name": "stderr",
     "output_type": "stream",
     "text": [
      "mkdir: reports: File exists\n"
     ]
    }
   ],
   "source": [
    "# create directory\n",
    "\n",
    "directory = 'reports'\n",
    "\n",
    "try:\n",
    "    os.system('mkdir %s' % directory)\n",
    "except:\n",
    "    print('Folder exists')"
   ]
  },
  {
   "cell_type": "code",
   "execution_count": 11,
   "id": "ebc22f34",
   "metadata": {
    "ExecuteTime": {
     "end_time": "2024-02-04T09:29:58.596874Z",
     "start_time": "2024-02-04T09:29:58.466705Z"
    }
   },
   "outputs": [],
   "source": [
    "driver.close()"
   ]
  },
  {
   "cell_type": "markdown",
   "id": "7bef6030",
   "metadata": {},
   "source": [
    "import datetime\n",
    "filename = \"coingecko_\"\n",
    "e = datetime.datetime.now()\n",
    "date_string = e.strftime(\"%Y-%m-%d\")\n",
    "df.to_excel(f\"{filename}{date_string}.xlsx\", index=0)"
   ]
  },
  {
   "cell_type": "code",
   "execution_count": 12,
   "id": "f8f17402",
   "metadata": {
    "ExecuteTime": {
     "end_time": "2024-02-04T09:29:58.803299Z",
     "start_time": "2024-02-04T09:29:58.598269Z"
    }
   },
   "outputs": [],
   "source": [
    "\n",
    "e = datetime.datetime.now()\n",
    "date_string = e.strftime(\"%Y%m%d %H-%M-%S\") # date string with date and time\n",
    "date_string2 = e.strftime(\"%Y-%m-%d\")\n",
    "df.to_excel(\"coingecko_\"f\"{date_string}.xlsx\", sheet_name= date_string2, index=0)\n"
   ]
  },
  {
   "cell_type": "code",
   "execution_count": 13,
   "id": "de485258",
   "metadata": {
    "ExecuteTime": {
     "end_time": "2024-02-04T09:29:58.808546Z",
     "start_time": "2024-02-04T09:29:58.805819Z"
    }
   },
   "outputs": [
    {
     "data": {
      "text/plain": [
       "['coingecko_20240204 12-10-39.xlsx',\n",
       " 'coingecko_20240204 12-10-13.xlsx',\n",
       " 'coingecko_20240204 12-29-58.xlsx']"
      ]
     },
     "execution_count": 13,
     "metadata": {},
     "output_type": "execute_result"
    }
   ],
   "source": [
    "xlsx_files = []\n",
    "\n",
    "for file in os.listdir():\n",
    "    if file.endswith('.xlsx'):\n",
    "        xlsx_files.append(file)\n",
    "\n",
    "xlsx_files"
   ]
  },
  {
   "cell_type": "code",
   "execution_count": 20,
   "id": "8b052cac",
   "metadata": {
    "ExecuteTime": {
     "end_time": "2024-02-04T09:32:41.802683Z",
     "start_time": "2024-02-04T09:32:41.769655Z"
    }
   },
   "outputs": [
    {
     "name": "stdout",
     "output_type": "stream",
     "text": [
      "/Users/kingori/Documents/GitHub/Coingecko/reports\n"
     ]
    },
    {
     "name": "stderr",
     "output_type": "stream",
     "text": [
      "mv: rename xlsx to /Users/kingori/Documents/GitHub/Coingecko/reports/xlsx: No such file or directory\n",
      "mv: rename xlsx to /Users/kingori/Documents/GitHub/Coingecko/reports/xlsx: No such file or directory\n",
      "mv: rename xlsx to /Users/kingori/Documents/GitHub/Coingecko/reports/xlsx: No such file or directory\n"
     ]
    }
   ],
   "source": [
    "# mv files directory\n",
    "\n",
    "folder = os.getcwd() + '/' + directory\n",
    "print(folder)\n",
    "\n",
    "for xlsx in xlsx_files:\n",
    "    mv = \"mv 'xlsx' %s\" % folder \n",
    "    os.system(mv)"
   ]
  },
  {
   "cell_type": "code",
   "execution_count": 15,
   "id": "e9144f3e",
   "metadata": {
    "ExecuteTime": {
     "end_time": "2024-02-04T09:29:58.814848Z",
     "start_time": "2024-02-04T09:29:58.812180Z"
    }
   },
   "outputs": [
    {
     "data": {
      "text/plain": [
       "'/Users/kingori/Documents/GitHub/Coingecko'"
      ]
     },
     "execution_count": 15,
     "metadata": {},
     "output_type": "execute_result"
    }
   ],
   "source": [
    "os.getcwd()"
   ]
  },
  {
   "cell_type": "code",
   "execution_count": null,
   "id": "212c00a1",
   "metadata": {},
   "outputs": [],
   "source": []
  }
 ],
 "metadata": {
  "kernelspec": {
   "display_name": "Python 3 (ipykernel)",
   "language": "python",
   "name": "python3"
  },
  "language_info": {
   "codemirror_mode": {
    "name": "ipython",
    "version": 3
   },
   "file_extension": ".py",
   "mimetype": "text/x-python",
   "name": "python",
   "nbconvert_exporter": "python",
   "pygments_lexer": "ipython3",
   "version": "3.11.5"
  },
  "vscode": {
   "interpreter": {
    "hash": "395cb13b6efbe03901aa983c70265a6bfbd4a6861adec9dd686d2f988c7b48d2"
   }
  }
 },
 "nbformat": 4,
 "nbformat_minor": 5
}
