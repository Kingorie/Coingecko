{
 "cells": [
  {
   "cell_type": "code",
   "execution_count": 23,
   "id": "3924e289",
   "metadata": {
    "ExecuteTime": {
     "end_time": "2024-02-02T09:22:25.569733Z",
     "start_time": "2024-02-02T09:22:25.563294Z"
    }
   },
   "outputs": [],
   "source": [
    "from selenium import webdriver\n",
    "from selenium.webdriver.chrome.service import Service as ChromeService\n",
    "from selenium.webdriver.chrome.options import Options\n",
    "import pandas as pd"
   ]
  },
  {
   "cell_type": "code",
   "execution_count": 33,
   "id": "bb3490c6",
   "metadata": {
    "ExecuteTime": {
     "end_time": "2024-02-02T09:39:25.493865Z",
     "start_time": "2024-02-02T09:39:08.345612Z"
    }
   },
   "outputs": [],
   "source": [
    "# Create ChromeOptions instance\n",
    "chrome_options = Options()\n",
    "# Add any desired capabilities to chrome_options here\n",
    "\n",
    "# Provide the correct path to chromedriver\n",
    "chrome_path = '/Users/kingori/Downloads/chromedriver'\n",
    "\n",
    "# Create a ChromeService instance\n",
    "chrome_service = ChromeService(executable_path=chrome_path)\n",
    "\n",
    "# Pass the service instance to the webdriver.Chrome constructor\n",
    "driver = webdriver.Chrome(service=chrome_service, options=chrome_options)\n",
    "\n",
    "# Navigate to the specified URL\n",
    "driver.get(\"https://www.coingecko.com/?page=20\")\n",
    "\n",
    "# Set a maximum wait time of 10 seconds\n",
    "driver.implicitly_wait(0)"
   ]
  },
  {
   "cell_type": "markdown",
   "id": "c8c7f000",
   "metadata": {
    "ExecuteTime": {
     "end_time": "2024-02-02T09:24:50.587706Z",
     "start_time": "2024-02-02T09:24:45.420123Z"
    }
   },
   "source": [
    "# Click button: Show Fully Diluted Valuation\n",
    "button = driver.find_element('xpath', '//body/div[4]/div[4]/div[2]/div[2]/div/button')\n",
    "# clicking on the button\n",
    "button.click()\n",
    "\n",
    "#Click page 20 of the \n",
    "button2 = driver.find_element('xpath', '//body/div[4]/div[4]/div[6]/div[2]/nav/ul/li[6]/a')\n",
    "button2.click()\n",
    "\n",
    "# maximize window position\n",
    "driver.maximize_window"
   ]
  },
  {
   "cell_type": "code",
   "execution_count": 26,
   "id": "589dcef9",
   "metadata": {
    "ExecuteTime": {
     "end_time": "2024-02-02T09:28:13.043409Z",
     "start_time": "2024-02-02T09:27:57.775885Z"
    }
   },
   "outputs": [],
   "source": [
    "# Get the following columns from table\n",
    "\n",
    "# Coin\n",
    "# Price\n",
    "# 1h\n",
    "# 24h\n",
    "# 7d\n",
    "# 24h Volume\n",
    "# Mkt Cap\n",
    "# FDV\n",
    "\n",
    "\n",
    "Coin = driver.find_elements('xpath', '//tbody/tr/td[3]/div/div[2]/a[1]/span[1]')\n",
    "Ticker = driver.find_elements('xpath', '//tbody/tr/td[3]/div/div[2]/a[1]/span[2]')\n",
    "Price = driver.find_elements('xpath', '//tr/td[4]/div/div[2]')\n",
    "H1 = driver.find_elements('xpath', \"//tr/td[5]\")\n",
    "H24 = driver.find_elements('xpath', '//tr/td[6]')\n",
    "d7 = driver.find_elements('xpath', '//tr/td[7]')\n",
    "Vol = driver.find_elements('xpath', '//tr/td[8]')\n",
    "Mkt_cap = driver.find_elements('xpath', '//tr/td[9]/span')\n",
    "FDV = driver.find_elements('xpath', '//tr/td[10]')\n",
    "\n",
    "\n",
    "# Check if code works:"
   ]
  },
  {
   "cell_type": "code",
   "execution_count": 27,
   "id": "1c0d9eb5",
   "metadata": {
    "ExecuteTime": {
     "end_time": "2024-02-02T09:28:13.045957Z",
     "start_time": "2024-02-02T09:28:13.044433Z"
    }
   },
   "outputs": [
    {
     "name": "stdout",
     "output_type": "stream",
     "text": [
      "100\n",
      "\n"
     ]
    }
   ],
   "source": [
    "# Check if code works\n",
    "\n",
    "print(len(FDV))\n",
    "print()\n",
    "\n",
    "for n in Ticker:\n",
    "    print(n.text)"
   ]
  },
  {
   "cell_type": "code",
   "execution_count": 29,
   "id": "729439e9",
   "metadata": {
    "ExecuteTime": {
     "end_time": "2024-02-02T09:28:35.441480Z",
     "start_time": "2024-02-02T09:28:35.436860Z"
    }
   },
   "outputs": [],
   "source": [
    "# Loop over all lists and get text elements:\n",
    "\n",
    "result = []\n",
    "\n",
    "for i in range(len(Coin)):\n",
    "    data = {\n",
    "        'Coin': Coin[i].text,\n",
    "        'Ticker': Ticker[i].text,\n",
    "        'Price': Price[i].text,\n",
    "        '1h': H1[i].text,\n",
    "        '24h': H24[i].text,\n",
    "        '7d': d7[i].text,\n",
    "        '24h Volume': Vol[i].text,\n",
    "        'Mkt Cap': Mkt_cap[i].text,\n",
    "        'Fully Diluted Valuation': FDV[i].text\n",
    "\n",
    "\n",
    "    }\n",
    "\n",
    "    result.append(data)"
   ]
  },
  {
   "cell_type": "code",
   "execution_count": 30,
   "id": "e22586e4",
   "metadata": {
    "ExecuteTime": {
     "end_time": "2024-02-02T09:28:35.478174Z",
     "start_time": "2024-02-02T09:28:35.443883Z"
    }
   },
   "outputs": [
    {
     "data": {
      "text/html": [
       "<div>\n",
       "<style scoped>\n",
       "    .dataframe tbody tr th:only-of-type {\n",
       "        vertical-align: middle;\n",
       "    }\n",
       "\n",
       "    .dataframe tbody tr th {\n",
       "        vertical-align: top;\n",
       "    }\n",
       "\n",
       "    .dataframe thead th {\n",
       "        text-align: right;\n",
       "    }\n",
       "</style>\n",
       "<table border=\"1\" class=\"dataframe\">\n",
       "  <thead>\n",
       "    <tr style=\"text-align: right;\">\n",
       "      <th></th>\n",
       "    </tr>\n",
       "  </thead>\n",
       "  <tbody>\n",
       "  </tbody>\n",
       "</table>\n",
       "</div>"
      ],
      "text/plain": [
       "Empty DataFrame\n",
       "Columns: []\n",
       "Index: []"
      ]
     },
     "execution_count": 30,
     "metadata": {},
     "output_type": "execute_result"
    }
   ],
   "source": [
    "df = pd.DataFrame(result)\n",
    "df"
   ]
  },
  {
   "cell_type": "markdown",
   "id": "39480539",
   "metadata": {},
   "source": [
    "df.to_excel('Coingecko.xlsx', index=False)"
   ]
  },
  {
   "cell_type": "markdown",
   "id": "b873db68",
   "metadata": {},
   "source": []
  },
  {
   "cell_type": "code",
   "execution_count": 31,
   "id": "ebc22f34",
   "metadata": {
    "ExecuteTime": {
     "end_time": "2024-02-02T09:28:35.643050Z",
     "start_time": "2024-02-02T09:28:35.479774Z"
    }
   },
   "outputs": [],
   "source": [
    "driver.close()"
   ]
  },
  {
   "cell_type": "markdown",
   "id": "7bef6030",
   "metadata": {},
   "source": [
    "import datetime\n",
    "filename = \"coingecko_\"\n",
    "e = datetime.datetime.now()\n",
    "date_string = e.strftime(\"%Y-%m-%d\")\n",
    "df.to_excel(f\"{filename}{date_string}.xlsx\", index=0)"
   ]
  },
  {
   "cell_type": "code",
   "execution_count": 32,
   "id": "f8f17402",
   "metadata": {
    "ExecuteTime": {
     "end_time": "2024-02-02T09:28:38.524632Z",
     "start_time": "2024-02-02T09:28:35.644517Z"
    }
   },
   "outputs": [],
   "source": [
    "import datetime\n",
    "e = datetime.datetime.now()\n",
    "date_string = e.strftime(\"%Y%m%d %H-%M-%S\") # date string with date and time\n",
    "date_string2 = e.strftime(\"%Y-%m-%d\")\n",
    "df.to_excel(\"coingecko_\"f\"{date_string}.xlsx\", sheet_name= date_string2, index=0)\n"
   ]
  },
  {
   "cell_type": "code",
   "execution_count": null,
   "id": "b017924a",
   "metadata": {},
   "outputs": [],
   "source": []
  }
 ],
 "metadata": {
  "kernelspec": {
   "display_name": "Python 3 (ipykernel)",
   "language": "python",
   "name": "python3"
  },
  "language_info": {
   "codemirror_mode": {
    "name": "ipython",
    "version": 3
   },
   "file_extension": ".py",
   "mimetype": "text/x-python",
   "name": "python",
   "nbconvert_exporter": "python",
   "pygments_lexer": "ipython3",
   "version": "3.11.5"
  },
  "vscode": {
   "interpreter": {
    "hash": "395cb13b6efbe03901aa983c70265a6bfbd4a6861adec9dd686d2f988c7b48d2"
   }
  }
 },
 "nbformat": 4,
 "nbformat_minor": 5
}
