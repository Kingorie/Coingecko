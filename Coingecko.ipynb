{
 "cells": [
  {
   "cell_type": "code",
   "execution_count": 6,
   "id": "bcb2cd3d",
   "metadata": {
    "ExecuteTime": {
     "end_time": "2024-02-16T11:23:51.527170Z",
     "start_time": "2024-02-16T11:13:56.524200Z"
    }
   },
   "outputs": [],
   "source": [
    "from selenium import webdriver\n",
    "from selenium.webdriver.chrome.service import Service as ChromeService\n",
    "from selenium.webdriver.chrome.options import Options\n",
    "from selenium.webdriver.common.by import By\n",
    "from selenium.webdriver.support.ui import WebDriverWait\n",
    "from selenium.webdriver.support import expected_conditions as EC\n",
    "import pandas as pd\n",
    "import datetime\n",
    "import shutil\n",
    "import os\n",
    "\n",
    "# Create ChromeOptions instance\n",
    "chrome_options = Options() \n",
    "# Add any desired capabilities to chrome_options here\n",
    "\n",
    "# Provide the correct path to chromedriver\n",
    "chrome_path = '/Users/kingori/Downloads/chromedriver'\n",
    "\n",
    "# Create a ChromeService instance\n",
    "chrome_service = ChromeService(executable_path=chrome_path)\n",
    "\n",
    "# Pass the service instance to the webdriver.Chrome constructor\n",
    "driver = webdriver.Chrome(service=chrome_service, options=chrome_options)\n",
    "\n",
    "try:\n",
    "    result = []\n",
    "\n",
    "    for i in range(1, 5):\n",
    "        # Navigate to the specified URL\n",
    "        driver.get(\"https://www.coingecko.com/?page=%s\" % i)\n",
    "\n",
    "        # Set a maximum wait time of 10 seconds\n",
    "        wait = WebDriverWait(driver, 10)\n",
    "\n",
    "        # Find and print the names of the coins on the page within a maximum of 10 seconds\n",
    "        coin_names = wait.until(\n",
    "            EC.presence_of_all_elements_located(\n",
    "                (By.XPATH, '//tbody/tr/td[3]')))\n",
    "\n",
    "        n = driver.find_elements('xpath', '//tbody/tr/td[2]')\n",
    "        Coin = driver.find_elements('xpath', '//tbody/tr/td[3]')\n",
    "        Ticker = driver.find_elements('xpath',\n",
    "                                      '//tbody/tr/td[3]/a/div/div/div')\n",
    "        Price = driver.find_elements('xpath', '//tbody/tr/td[5]')\n",
    "        H1 = driver.find_elements('xpath', \"//tbody/tr/td[6]/span\")\n",
    "        H24 = driver.find_elements('xpath', '//tbody/tr/td[7]/span')\n",
    "        d7 = driver.find_elements('xpath', '//tbody/tr/td[8]')\n",
    "        Vol = driver.find_elements('xpath', '//tbody/tr/td[10]/span')\n",
    "        Mkt_cap = driver.find_elements('xpath', '//tbody/tr/td[11]/span')\n",
    "        FDV = driver.find_elements('xpath', '//tr/td[10]')\n",
    "\n",
    "        for i in range(len(Coin)):\n",
    "            data = {\n",
    "                '#': n[i].text,\n",
    "                'Coin': Coin[i].text,\n",
    "                'Ticker': Ticker[i].text,\n",
    "                'Price': Price[i].text,\n",
    "                '1h': H1[i].text,\n",
    "                '24h': H24[i].text,\n",
    "                '7d': d7[i].text,\n",
    "                '24h Volume': Vol[i].text,\n",
    "                'Mkt Cap': Mkt_cap[i].text,\n",
    "                'Fully Diluted Valuation': FDV[i].text\n",
    "            }\n",
    "\n",
    "            result.append(data)\n",
    "\n",
    "    # Create a DataFrame from the collected data\n",
    "    df = pd.DataFrame(result)\n",
    "\n",
    "    # Save the DataFrame to a single Excel file\n",
    "    e = datetime.datetime.now()\n",
    "    date_string = e.strftime(\"%Y%m%d %H-%M-%S\")\n",
    "    date_string2 = e.strftime(\"%Y-%m-%d\")\n",
    "    df.to_excel(f\"coingecko_{date_string}.xlsx\",\n",
    "                sheet_name=date_string2,\n",
    "                index=False)\n",
    "\n",
    "except Exception as e:\n",
    "    print(f\"An error occurred: {e}\")\n",
    "\n",
    "finally:\n",
    "    driver.close()"
   ]
  },
  {
   "cell_type": "code",
   "execution_count": 7,
   "id": "f710c1ab",
   "metadata": {
    "ExecuteTime": {
     "end_time": "2024-02-16T11:23:51.531251Z",
     "start_time": "2024-02-16T11:23:51.529182Z"
    }
   },
   "outputs": [],
   "source": [
    "# Create a 'reports' folder and move the excel files there\n",
    "\n",
    "# create folder named reports\n",
    "directory = 'reports'\n",
    "\n",
    "try:\n",
    "    os.makedirs(directory)\n",
    "except:\n",
    "    pass"
   ]
  },
  {
   "cell_type": "code",
   "execution_count": 8,
   "id": "7eae1305",
   "metadata": {
    "ExecuteTime": {
     "end_time": "2024-02-16T11:23:51.536732Z",
     "start_time": "2024-02-16T11:23:51.532320Z"
    }
   },
   "outputs": [],
   "source": [
    "# move the excel files to 'reports' folder\n",
    "\n",
    "source_path = os.getcwd()\n",
    "dest_path = os.getcwd() + '/' + directory\n",
    "\n",
    "\n",
    "# Loop through the files in the current directory\n",
    "for file in os.listdir(source_path):\n",
    "    if file.endswith('.xlsx'):\n",
    "        # Build the source and destination file paths\n",
    "        source_file = os.path.join(source_path, file)\n",
    "        dest_file = os.path.join(dest_path, file)\n",
    "\n",
    "        # Move the file to the 'reports' folder\n",
    "        shutil.move(source_file, dest_file)"
   ]
  }
 ],
 "metadata": {
  "kernelspec": {
   "display_name": "Python 3 (ipykernel)",
   "language": "python",
   "name": "python3"
  },
  "language_info": {
   "codemirror_mode": {
    "name": "ipython",
    "version": 3
   },
   "file_extension": ".py",
   "mimetype": "text/x-python",
   "name": "python",
   "nbconvert_exporter": "python",
   "pygments_lexer": "ipython3",
   "version": "3.11.5"
  }
 },
 "nbformat": 4,
 "nbformat_minor": 5
}
