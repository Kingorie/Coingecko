{
 "cells": [
  {
   "cell_type": "code",
   "execution_count": 6,
   "id": "3924e289",
   "metadata": {},
   "outputs": [],
   "source": [
    "from selenium import webdriver\n",
    "from selenium.webdriver.chrome.options import Options \n",
    "import pandas as pd\n",
    "import time"
   ]
  },
  {
   "cell_type": "markdown",
   "id": "bb3490c6",
   "metadata": {},
   "source": [
    "# Webdriver to automate browser\n",
    "''' \n",
    "WebDriverManager.chromedriver().setup();\n",
    "WebDriver driver = new ChromeDriver();\n",
    "driver.get(\"http://google.com\");  \n",
    " '''\n",
    "   \n",
    "#driver = webdriver.Chrome('C:\\webdrivers\\chromedriver.exe')\n",
    "driver = webdriver.Chrome('/Users/kingori/Downloads/chromedriver')\n",
    "page = 1\n",
    "url = f\"https://www.coingecko.com/?page={page}\"\n",
    "driver.get(url)\n"
   ]
  },
  {
   "cell_type": "code",
   "execution_count": 7,
   "id": "f5478e71",
   "metadata": {},
   "outputs": [
    {
     "name": "stderr",
     "output_type": "stream",
     "text": [
      "/var/folders/b1/1jn8j38d5bz1smtpl05bb8180000gn/T/ipykernel_1711/1363748232.py:64: FutureWarning: The default value of regex will change from True to False in a future version. In addition, single character regular expressions will *not* be treated as literal strings when regex=True.\n",
      "  df[col] = df[col].str.replace('$','')\n",
      "/var/folders/b1/1jn8j38d5bz1smtpl05bb8180000gn/T/ipykernel_1711/1363748232.py:69: FutureWarning: The default value of regex will change from True to False in a future version. In addition, single character regular expressions will *not* be treated as literal strings when regex=True.\n",
      "  df[col] = df[col].str.replace('$',\"\")\n",
      "/var/folders/b1/1jn8j38d5bz1smtpl05bb8180000gn/T/ipykernel_1711/1363748232.py:64: FutureWarning: The default value of regex will change from True to False in a future version. In addition, single character regular expressions will *not* be treated as literal strings when regex=True.\n",
      "  df[col] = df[col].str.replace('$','')\n",
      "/var/folders/b1/1jn8j38d5bz1smtpl05bb8180000gn/T/ipykernel_1711/1363748232.py:69: FutureWarning: The default value of regex will change from True to False in a future version. In addition, single character regular expressions will *not* be treated as literal strings when regex=True.\n",
      "  df[col] = df[col].str.replace('$',\"\")\n",
      "/var/folders/b1/1jn8j38d5bz1smtpl05bb8180000gn/T/ipykernel_1711/1363748232.py:64: FutureWarning: The default value of regex will change from True to False in a future version. In addition, single character regular expressions will *not* be treated as literal strings when regex=True.\n",
      "  df[col] = df[col].str.replace('$','')\n",
      "/var/folders/b1/1jn8j38d5bz1smtpl05bb8180000gn/T/ipykernel_1711/1363748232.py:69: FutureWarning: The default value of regex will change from True to False in a future version. In addition, single character regular expressions will *not* be treated as literal strings when regex=True.\n",
      "  df[col] = df[col].str.replace('$',\"\")\n"
     ]
    }
   ],
   "source": [
    "page = 1\n",
    "\n",
    "for i in range(1,4):\n",
    "    #driver = webdriver.Chrome('C:\\webdrivers\\chromedriver.exe')\n",
    "    driver = webdriver.Chrome('/Users/kingori/Downloads/chromedriver')\n",
    "    url = f\"https://www.coingecko.com/?page={i}\"\n",
    "    driver.get(url)\n",
    "    \n",
    "    # Click button: Show Fully Diluted Valuation\n",
    "    button = driver.find_element('xpath', '//body/div[4]/div[4]/div[2]/div[2]/div/button')\n",
    "    # clicking on the button\n",
    "    button.click()\n",
    "\n",
    "    # maximize window position\n",
    "    driver.maximize_window\n",
    "    \n",
    "    # Get the following columns from table\n",
    "\n",
    "    # Coin\n",
    "    # Price\n",
    "    # 1h\n",
    "    # 24h\n",
    "    # 7d\n",
    "    # 24h Volume\n",
    "    # Mkt Cap\n",
    "    # FDV\n",
    "\n",
    "\n",
    "    Coin = driver.find_elements('xpath', '//tbody/tr/td[3]/div/div[2]/a[1]/span[1]')\n",
    "    Ticker = driver.find_elements('xpath', '//tbody/tr/td[3]/div/div[2]/a[1]/span[2]')\n",
    "    Price = driver.find_elements('xpath', '//tr/td[4]/div/div[2]')\n",
    "    H1 = driver.find_elements('xpath', \"//tr/td[5]\")\n",
    "    H24 = driver.find_elements('xpath', '//tr/td[6]')\n",
    "    d7 = driver.find_elements('xpath', '//tr/td[7]')\n",
    "    Vol = driver.find_elements('xpath', '//tr/td[8]/span[1]')\n",
    "    Mkt_cap = driver.find_elements('xpath', '//tr/td[9]/span')\n",
    "    FDV = driver.find_elements('xpath', '//tr/td[10]')\n",
    "    \n",
    "    # Loop over all lists and get text elements:\n",
    "\n",
    "    result = []\n",
    "\n",
    "    for i in range(len(Vol)):\n",
    "        data = {\n",
    "            'Coin': Coin[i].text,\n",
    "            'Ticker': Ticker[i].text,\n",
    "            'Price': Price[i].text,\n",
    "            '1h': H1[i].text,\n",
    "            '24h': H24[i].text,\n",
    "            '7d': d7[i].text,\n",
    "            '24h Volume': Vol[i].text,\n",
    "            'Mkt Cap': Mkt_cap[i].text,\n",
    "            'Fully Diluted Valuation': FDV[i].text\n",
    "\n",
    "        }\n",
    "\n",
    "        result.append(data)\n",
    "        \n",
    "        df = pd.DataFrame(result)\n",
    "\n",
    "    #Remove $ and commas from column names\n",
    "    columns = ['Price', '24h Volume', 'Mkt Cap']\n",
    "    for col in columns:\n",
    "        df[col] = df[col].str.replace('$','')\n",
    "        df[col] = df[col].str.replace(',',\"\").astype(float)\n",
    "\n",
    "    columns = ['Fully Diluted Valuation']\n",
    "    for col in columns:\n",
    "        df[col] = df[col].str.replace('$',\"\")\n",
    "        df[col] = df[col].str.replace('-',\"0\")\n",
    "        df[col] = df[col].str.replace(',',\"\").astype(float)\n",
    "        \n",
    "    df\n",
    "    \n",
    "    # Insert date to filename\n",
    "    import datetime\n",
    "    date_string = datetime.datetime.now().strftime(\"%Y%m%d %H-%M-%S\")\n",
    "    #file = ('%s%s.xlsx' % (\"coingecko_\", datestring) )\n",
    "    #file = (\"coingecko_\"f\"{datestring}{_page}.csv\")\n",
    "    file_name = (f\"report_{date_string}_{page}.csv\")\n",
    "\n",
    "    # Save dataframe to CSV file\n",
    "    df.to_csv(file_name, index=0)\n",
    "    \n",
    "    # Close web driver\n",
    "    driver.close()\n",
    " \n",
    "    "
   ]
  },
  {
   "cell_type": "code",
   "execution_count": 9,
   "id": "93a97292",
   "metadata": {},
   "outputs": [
    {
     "data": {
      "text/plain": [
       "['report_20230209 09-15-05_1.csv',\n",
       " 'report_20230209 09-14-45_1.csv',\n",
       " 'report_20230209 09-15-24_1.csv',\n",
       " 'report_20230209 09-12-08_1.csv']"
      ]
     },
     "execution_count": 9,
     "metadata": {},
     "output_type": "execute_result"
    }
   ],
   "source": [
    "# Merge file\n",
    "\n",
    "import os\n",
    "\n",
    "folder = '/Users/kingori/Library/CloudStorage/GoogleDrive-kingori.ek@gmail.com/My Drive/Documents/Github/Coingecko'\n",
    "\n",
    "\n",
    "\n",
    "#csv_files = [file for file in os.listdir(folder) if file.endswith('.csv')]\n",
    "csv_files = []\n",
    "\n",
    "for file in os.listdir(folder):\n",
    "    if file.endswith('.csv'):\n",
    "        csv_files.append(file)\n",
    "\n",
    "with open(f'coingecko_{date_string}.csv', 'w') as f:\n",
    "    for file in csv_files:\n",
    "        file_path = os.path.join(folder, file)\n",
    "        with open(file_path, 'r') as infile:\n",
    "            f.write(infile.read())\n",
    "            \n",
    "\n",
    "csv_files\n"
   ]
  },
  {
   "cell_type": "code",
   "execution_count": 11,
   "id": "23de6e8a",
   "metadata": {},
   "outputs": [],
   "source": [
    "# Remove duplicate headers fom the merged file using CSV library\n",
    "\n",
    "import csv\n",
    "\n",
    "filename = f\"coingecko_{date_string}.csv\"\n",
    "\n",
    "# Read csv file\n",
    "with open(filename, 'r') as file:\n",
    "    reader = csv.reader(file)\n",
    "    data = list(reader)\n",
    "# Create set to store unique rows\n",
    "unique_rows = set()\n",
    "# Iterate through the rows, adding each row to the set only if it's not already in it\n",
    "unique_data = []\n",
    "for row in data:\n",
    "    if tuple(row) not in unique_rows:\n",
    "        unique_data.append(row)\n",
    "        unique_rows.add(tuple(row))\n",
    "\n",
    "# Write unique data to a new CSV file\n",
    "with open(filename, 'w', newline='') as file:\n",
    "    writer = csv.writer(file)\n",
    "    writer.writerows(unique_data)"
   ]
  },
  {
   "cell_type": "code",
   "execution_count": 12,
   "id": "d64bd29e",
   "metadata": {},
   "outputs": [
    {
     "name": "stdout",
     "output_type": "stream",
     "text": [
      "/Users/kingori/Library/CloudStorage/GoogleDrive-kingori.ek@gmail.com/My Drive/Documents/Github/Coingecko/coingecko_20230209 09-15-24.csv\n"
     ]
    }
   ],
   "source": [
    "\n",
    "import os\n",
    "import shutil\n",
    "\n",
    "# Source and destination folder\n",
    "src_folder = '/Users/kingori/Library/CloudStorage/GoogleDrive-kingori.ek@gmail.com/My Drive/Documents/Github/Coingecko/'\n",
    "dest_folder = '/Users/kingori/Library/CloudStorage/GoogleDrive-kingori.ek@gmail.com/My Drive/Documents/Github/Coingecko/Reports/'\n",
    "\n",
    "# Iterate through source folder\n",
    "for file in os.listdir(src_folder):\n",
    "    # check if file is an excel\n",
    "    if file.endswith('.csv') and file.startswith('coingecko'):\n",
    "        # Build full path of files\n",
    "        src_file = os.path.join(src_folder, file)\n",
    "        dest_file = os.path.join(dest_folder, file)\n",
    "        # move file to dest folder \n",
    "        shutil.move(src_file, dest_folder)\n",
    "    \n",
    "print(src_file)"
   ]
  },
  {
   "cell_type": "code",
   "execution_count": 13,
   "id": "2d0c68e2",
   "metadata": {},
   "outputs": [],
   "source": [
    "import glob\n",
    "\n",
    "# Find all csv files using glob.glob() function \n",
    "csv_files = glob.glob(f\"{src_folder}*.csv\")\n",
    "for file in csv_files:\n",
    "    os.remove(file)"
   ]
  },
  {
   "cell_type": "code",
   "execution_count": null,
   "id": "95996a3e",
   "metadata": {},
   "outputs": [],
   "source": []
  },
  {
   "cell_type": "code",
   "execution_count": null,
   "id": "df097961",
   "metadata": {},
   "outputs": [],
   "source": []
  }
 ],
 "metadata": {
  "kernelspec": {
   "display_name": "Python 3 (ipykernel)",
   "language": "python",
   "name": "python3"
  },
  "language_info": {
   "codemirror_mode": {
    "name": "ipython",
    "version": 3
   },
   "file_extension": ".py",
   "mimetype": "text/x-python",
   "name": "python",
   "nbconvert_exporter": "python",
   "pygments_lexer": "ipython3",
   "version": "3.10.8"
  },
  "vscode": {
   "interpreter": {
    "hash": "395cb13b6efbe03901aa983c70265a6bfbd4a6861adec9dd686d2f988c7b48d2"
   }
  }
 },
 "nbformat": 4,
 "nbformat_minor": 5
}
